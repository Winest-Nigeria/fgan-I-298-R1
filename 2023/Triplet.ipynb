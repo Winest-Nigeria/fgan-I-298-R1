{
  "cells": [
    {
      "cell_type": "markdown",
      "metadata": {
        "id": "view-in-github",
        "colab_type": "text"
      },
      "source": [
        "<a href=\"https://colab.research.google.com/github/Winest-Nigeria/fgan-I-298-R1/blob/main/2023/Triplet.ipynb\" target=\"_parent\"><img src=\"https://colab.research.google.com/assets/colab-badge.svg\" alt=\"Open In Colab\"/></a>"
      ]
    },
    {
      "cell_type": "code",
      "source": [
        "!pip install pyPDF2"
      ],
      "metadata": {
        "colab": {
          "base_uri": "https://localhost:8080/"
        },
        "id": "xkDtA5P9Wl30",
        "outputId": "3df98bab-f2fc-47cf-8d34-502a684299b9"
      },
      "id": "xkDtA5P9Wl30",
      "execution_count": 1,
      "outputs": [
        {
          "output_type": "stream",
          "name": "stdout",
          "text": [
            "Collecting pyPDF2\n",
            "  Downloading pypdf2-3.0.1-py3-none-any.whl (232 kB)\n",
            "\u001b[?25l     \u001b[90m━━━━━━━━━━━━━━━━━━━━━━━━━━━━━━━━━━━━━━━━\u001b[0m \u001b[32m0.0/232.6 kB\u001b[0m \u001b[31m?\u001b[0m eta \u001b[36m-:--:--\u001b[0m\r\u001b[2K     \u001b[91m━━━━━━━━━━━━━━━\u001b[0m\u001b[91m╸\u001b[0m\u001b[90m━━━━━━━━━━━━━━━━━━━━━━━━\u001b[0m \u001b[32m92.2/232.6 kB\u001b[0m \u001b[31m2.8 MB/s\u001b[0m eta \u001b[36m0:00:01\u001b[0m\r\u001b[2K     \u001b[90m━━━━━━━━━━━━━━━━━━━━━━━━━━━━━━━━━━━━━━━\u001b[0m \u001b[32m232.6/232.6 kB\u001b[0m \u001b[31m4.2 MB/s\u001b[0m eta \u001b[36m0:00:00\u001b[0m\n",
            "\u001b[?25hInstalling collected packages: pyPDF2\n",
            "Successfully installed pyPDF2-3.0.1\n"
          ]
        }
      ]
    },
    {
      "cell_type": "code",
      "execution_count": 2,
      "id": "72467097",
      "metadata": {
        "id": "72467097"
      },
      "outputs": [],
      "source": [
        "import PyPDF2 as pdf\n",
        "import re"
      ]
    },
    {
      "cell_type": "code",
      "source": [
        "# Path to your PDF file\n",
        "pdf_file_path = '/content/sample_data/test_usecase_document.pdf'"
      ],
      "metadata": {
        "id": "r7NSy-bGVPYy"
      },
      "id": "r7NSy-bGVPYy",
      "execution_count": 5,
      "outputs": []
    },
    {
      "cell_type": "code",
      "execution_count": 6,
      "id": "6ecd660d",
      "metadata": {
        "id": "6ecd660d",
        "outputId": "9706ea7e-f09e-46a0-ccdc-a1623899ce8d",
        "colab": {
          "base_uri": "https://localhost:8080/",
          "height": 439
        }
      },
      "outputs": [
        {
          "output_type": "error",
          "ename": "FileNotFoundError",
          "evalue": "ignored",
          "traceback": [
            "\u001b[0;31m---------------------------------------------------------------------------\u001b[0m",
            "\u001b[0;31mFileNotFoundError\u001b[0m                         Traceback (most recent call last)",
            "\u001b[0;32m<ipython-input-6-3b9fc7f2dae7>\u001b[0m in \u001b[0;36m<cell line: 2>\u001b[0;34m()\u001b[0m\n\u001b[1;32m      1\u001b[0m \u001b[0;31m# Open the PDF file\u001b[0m\u001b[0;34m\u001b[0m\u001b[0;34m\u001b[0m\u001b[0m\n\u001b[0;32m----> 2\u001b[0;31m \u001b[0;32mwith\u001b[0m \u001b[0mopen\u001b[0m\u001b[0;34m(\u001b[0m\u001b[0mpdf_file_path\u001b[0m\u001b[0;34m,\u001b[0m \u001b[0;34m'rb'\u001b[0m\u001b[0;34m)\u001b[0m \u001b[0;32mas\u001b[0m \u001b[0mpdf_file\u001b[0m\u001b[0;34m:\u001b[0m\u001b[0;34m\u001b[0m\u001b[0;34m\u001b[0m\u001b[0m\n\u001b[0m\u001b[1;32m      3\u001b[0m   \u001b[0;31m# Create a PDF reader object\u001b[0m\u001b[0;34m\u001b[0m\u001b[0;34m\u001b[0m\u001b[0m\n\u001b[1;32m      4\u001b[0m   \u001b[0mpdf_reader\u001b[0m \u001b[0;34m=\u001b[0m \u001b[0mpdf\u001b[0m\u001b[0;34m.\u001b[0m\u001b[0mPdfReader\u001b[0m\u001b[0;34m(\u001b[0m\u001b[0mpdf_file\u001b[0m\u001b[0;34m)\u001b[0m\u001b[0;34m\u001b[0m\u001b[0;34m\u001b[0m\u001b[0m\n\u001b[1;32m      5\u001b[0m \u001b[0;34m\u001b[0m\u001b[0m\n",
            "\u001b[0;31mFileNotFoundError\u001b[0m: [Errno 2] No such file or directory: '/content/sample_data/test_usecase_document.pdf'"
          ]
        }
      ],
      "source": [
        "# Open the PDF file\n",
        "with open(pdf_file_path, 'rb') as pdf_file:\n",
        "  # Create a PDF reader object\n",
        "  pdf_reader = pdf.PdfReader(pdf_file)\n",
        "\n",
        "  # Initialize an empty string to store the extracted text\n",
        "  pdf_text = ''\n",
        "\n",
        "  # Iterate through each page and extract text\n",
        "  for page_num in range(len(pdf_reader.pages)):\n",
        "      page = pdf_reader.pages[page_num]\n",
        "      pdf_text += page.extract_text()"
      ]
    },
    {
      "cell_type": "code",
      "execution_count": 3,
      "id": "a9098697",
      "metadata": {
        "id": "a9098697",
        "outputId": "5206f537-a896-43fb-c8f2-12e31a0d622b",
        "colab": {
          "base_uri": "https://localhost:8080/",
          "height": 280
        }
      },
      "outputs": [
        {
          "output_type": "error",
          "ename": "NameError",
          "evalue": "ignored",
          "traceback": [
            "\u001b[0;31m---------------------------------------------------------------------------\u001b[0m",
            "\u001b[0;31mNameError\u001b[0m                                 Traceback (most recent call last)",
            "\u001b[0;32m<ipython-input-3-a94da218af26>\u001b[0m in \u001b[0;36m<cell line: 1>\u001b[0;34m()\u001b[0m\n\u001b[0;32m----> 1\u001b[0;31m \u001b[0mpdf_text\u001b[0m\u001b[0;34m[\u001b[0m\u001b[0;34m:\u001b[0m\u001b[0;36m100\u001b[0m\u001b[0;34m]\u001b[0m\u001b[0;34m\u001b[0m\u001b[0;34m\u001b[0m\u001b[0m\n\u001b[0m",
            "\u001b[0;31mNameError\u001b[0m: name 'pdf_text' is not defined"
          ]
        }
      ],
      "source": [
        "pdf_text[:100]"
      ]
    },
    {
      "cell_type": "code",
      "source": [
        "# Remove all puntuation in text\n",
        "text= ''.join([c for c in pdf_text if c not in string.punctuation])"
      ],
      "metadata": {
        "id": "evTHfmpLa5_M"
      },
      "id": "evTHfmpLa5_M",
      "execution_count": null,
      "outputs": []
    },
    {
      "cell_type": "code",
      "source": [
        "text[:100]\n",
        "len(text)"
      ],
      "metadata": {
        "id": "DXrVPM2SFFXa"
      },
      "id": "DXrVPM2SFFXa",
      "execution_count": null,
      "outputs": []
    },
    {
      "cell_type": "code",
      "source": [
        "tokens = text.split() #tokenize the text"
      ],
      "metadata": {
        "id": "Q63C2oONbJKy",
        "outputId": "68dbb7ca-2683-4e58-c0b1-9fde1b3ee497",
        "colab": {
          "base_uri": "https://localhost:8080/",
          "height": 297
        }
      },
      "id": "Q63C2oONbJKy",
      "execution_count": 7,
      "outputs": [
        {
          "output_type": "error",
          "ename": "NameError",
          "evalue": "ignored",
          "traceback": [
            "\u001b[0;31m---------------------------------------------------------------------------\u001b[0m",
            "\u001b[0;31mNameError\u001b[0m                                 Traceback (most recent call last)",
            "\u001b[0;32m<ipython-input-7-765f125988c6>\u001b[0m in \u001b[0;36m<cell line: 1>\u001b[0;34m()\u001b[0m\n\u001b[0;32m----> 1\u001b[0;31m \u001b[0mtokens\u001b[0m \u001b[0;34m=\u001b[0m \u001b[0mtext\u001b[0m\u001b[0;34m.\u001b[0m\u001b[0msplit\u001b[0m\u001b[0;34m(\u001b[0m\u001b[0;34m)\u001b[0m \u001b[0;31m#tokenize the text\u001b[0m\u001b[0;34m\u001b[0m\u001b[0;34m\u001b[0m\u001b[0m\n\u001b[0m",
            "\u001b[0;31mNameError\u001b[0m: name 'text' is not defined"
          ]
        }
      ]
    },
    {
      "cell_type": "code",
      "execution_count": null,
      "id": "4feb583c",
      "metadata": {
        "id": "4feb583c"
      },
      "outputs": [],
      "source": [
        "#split pdf_text to list of strings using space\n",
        "tokens=text.split('benefits to the various stakeholders like operators and end users')[1].split('Bibliography')[0].split()"
      ]
    },
    {
      "cell_type": "code",
      "source": [
        "tokens[:10]"
      ],
      "metadata": {
        "id": "JVfrU53iLLq_"
      },
      "id": "JVfrU53iLLq_",
      "execution_count": null,
      "outputs": []
    },
    {
      "cell_type": "code",
      "source": [
        "len(tokens)"
      ],
      "metadata": {
        "id": "t99WuTL6LxGs"
      },
      "id": "t99WuTL6LxGs",
      "execution_count": null,
      "outputs": []
    },
    {
      "cell_type": "code",
      "source": [
        "from nltk.corpus import stopwords # import nltk list of stopwords"
      ],
      "metadata": {
        "id": "OFgACjiKL1vd"
      },
      "id": "OFgACjiKL1vd",
      "execution_count": 8,
      "outputs": []
    },
    {
      "cell_type": "code",
      "source": [
        "\n",
        "# Remove stopwords\n",
        "tokens=[word for word in tokens if word.lower() not in stopwords.words('english')]"
      ],
      "metadata": {
        "id": "S52qhPKzL4WW"
      },
      "id": "S52qhPKzL4WW",
      "execution_count": null,
      "outputs": []
    },
    {
      "cell_type": "code",
      "source": [
        "len(tokens)"
      ],
      "metadata": {
        "id": "krin303FMAMe"
      },
      "id": "krin303FMAMe",
      "execution_count": null,
      "outputs": []
    },
    {
      "cell_type": "code",
      "source": [
        "\n",
        "#Remove numbers and and single characters\n",
        "tokens = [word for word in tokens if not (word.isdigit() or len(word) == 1)]"
      ],
      "metadata": {
        "id": "FRILdsIMMCOA"
      },
      "id": "FRILdsIMMCOA",
      "execution_count": null,
      "outputs": []
    },
    {
      "cell_type": "code",
      "source": [
        "tokens = [word for word in tokens if not (word == 'Use' or word == 'use' or word == 'case')]"
      ],
      "metadata": {
        "id": "sNR-tmXyMI1d"
      },
      "id": "sNR-tmXyMI1d",
      "execution_count": null,
      "outputs": []
    },
    {
      "cell_type": "code",
      "source": [
        "len(tokens)"
      ],
      "metadata": {
        "id": "afPOVJNGMKKW"
      },
      "id": "afPOVJNGMKKW",
      "execution_count": null,
      "outputs": []
    },
    {
      "cell_type": "code",
      "source": [
        "tokens[:10]"
      ],
      "metadata": {
        "id": "KqosmPXNMMRW"
      },
      "id": "KqosmPXNMMRW",
      "execution_count": null,
      "outputs": []
    },
    {
      "cell_type": "code",
      "source": [
        "# import spacy library\n",
        "\n",
        "import spacy\n",
        "nlp = spacy.load(\"en_core_web_sm\")"
      ],
      "metadata": {
        "id": "totp-KBfMQMO"
      },
      "id": "totp-KBfMQMO",
      "execution_count": null,
      "outputs": []
    },
    {
      "cell_type": "code",
      "source": [
        "word_list = tokens\n",
        "# Join the words into a text string\n",
        "text = ' '.join(word_list)\n",
        "\n",
        "# Process the text with spaCy\n",
        "doc = nlp(text)\n",
        "\n",
        "# Extract nouns\n",
        "noun = [token.text for token in doc if token.pos_ == \"NOUN\"]\n",
        "\n",
        "# Print the extracted nouns\n",
        "print(noun[:100])"
      ],
      "metadata": {
        "id": "Y1_SuvUvMSdW"
      },
      "id": "Y1_SuvUvMSdW",
      "execution_count": null,
      "outputs": []
    },
    {
      "cell_type": "code",
      "source": [
        "len(noun)"
      ],
      "metadata": {
        "id": "2vizacIkMf5l"
      },
      "id": "2vizacIkMf5l",
      "execution_count": null,
      "outputs": []
    },
    {
      "cell_type": "code",
      "source": [
        "\n",
        "# seperating the various part of speech using nltk\n",
        "parts_of_speech = pos_tag(noun)\n",
        "len(parts_of_speech)"
      ],
      "metadata": {
        "id": "d1LXaxFZMi1X"
      },
      "id": "d1LXaxFZMi1X",
      "execution_count": null,
      "outputs": []
    },
    {
      "cell_type": "code",
      "source": [
        "parts_of_speech[:10]"
      ],
      "metadata": {
        "id": "T1UDVKhPMls1"
      },
      "id": "T1UDVKhPMls1",
      "execution_count": null,
      "outputs": []
    },
    {
      "cell_type": "code",
      "source": [
        "\n",
        "#Extracting nouns using nltk\n",
        "nouns = list(filter(lambda x: x[1]==\"NN\" , parts_of_speech))"
      ],
      "metadata": {
        "id": "OAoPB2dcMt0G"
      },
      "id": "OAoPB2dcMt0G",
      "execution_count": null,
      "outputs": []
    },
    {
      "cell_type": "code",
      "source": [
        "nouns[:10]"
      ],
      "metadata": {
        "id": "WCmTL4A0Mww-"
      },
      "id": "WCmTL4A0Mww-",
      "execution_count": null,
      "outputs": []
    },
    {
      "cell_type": "code",
      "source": [
        "len(nouns)"
      ],
      "metadata": {
        "id": "51b-bqA8Mzxf"
      },
      "id": "51b-bqA8Mzxf",
      "execution_count": null,
      "outputs": []
    }
  ],
  "metadata": {
    "kernelspec": {
      "display_name": "Python 3 (ipykernel)",
      "language": "python",
      "name": "python3"
    },
    "language_info": {
      "codemirror_mode": {
        "name": "ipython",
        "version": 3
      },
      "file_extension": ".py",
      "mimetype": "text/x-python",
      "name": "python",
      "nbconvert_exporter": "python",
      "pygments_lexer": "ipython3",
      "version": "3.10.9"
    },
    "colab": {
      "provenance": [],
      "include_colab_link": true
    }
  },
  "nbformat": 4,
  "nbformat_minor": 5
}