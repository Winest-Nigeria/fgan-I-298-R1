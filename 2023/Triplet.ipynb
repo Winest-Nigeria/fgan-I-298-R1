{
  "cells": [
    {
      "cell_type": "markdown",
      "metadata": {
        "id": "view-in-github",
        "colab_type": "text"
      },
      "source": [
        "<a href=\"https://colab.research.google.com/github/Winest-Nigeria/fgan-I-298-R1/blob/main/2023/Triplet.ipynb\" target=\"_parent\"><img src=\"https://colab.research.google.com/assets/colab-badge.svg\" alt=\"Open In Colab\"/></a>"
      ]
    },
    {
      "cell_type": "code",
      "source": [
        "!pip install pyPDF2"
      ],
      "metadata": {
        "colab": {
          "base_uri": "https://localhost:8080/"
        },
        "id": "xkDtA5P9Wl30",
        "outputId": "79de0b9b-b27d-4a72-b577-102e3a01e718"
      },
      "id": "xkDtA5P9Wl30",
      "execution_count": null,
      "outputs": [
        {
          "output_type": "stream",
          "name": "stdout",
          "text": [
            "Collecting pyPDF2\n",
            "  Downloading pypdf2-3.0.1-py3-none-any.whl (232 kB)\n",
            "\u001b[?25l     \u001b[90m━━━━━━━━━━━━━━━━━━━━━━━━━━━━━━━━━━━━━━━━\u001b[0m \u001b[32m0.0/232.6 kB\u001b[0m \u001b[31m?\u001b[0m eta \u001b[36m-:--:--\u001b[0m\r\u001b[2K     \u001b[91m━━━━━━━━━━━━━━━━━━━━━━━━━━━━━━━━\u001b[0m\u001b[91m╸\u001b[0m\u001b[90m━━━━━━\u001b[0m \u001b[32m194.6/232.6 kB\u001b[0m \u001b[31m5.7 MB/s\u001b[0m eta \u001b[36m0:00:01\u001b[0m\r\u001b[2K     \u001b[90m━━━━━━━━━━━━━━━━━━━━━━━━━━━━━━━━━━━━━━━\u001b[0m \u001b[32m232.6/232.6 kB\u001b[0m \u001b[31m5.1 MB/s\u001b[0m eta \u001b[36m0:00:00\u001b[0m\n",
            "\u001b[?25hInstalling collected packages: pyPDF2\n",
            "Successfully installed pyPDF2-3.0.1\n"
          ]
        }
      ]
    },
    {
      "cell_type": "code",
      "execution_count": null,
      "id": "72467097",
      "metadata": {
        "id": "72467097"
      },
      "outputs": [],
      "source": [
        "import PyPDF2 as pdf\n",
        "import string"
      ]
    },
    {
      "cell_type": "code",
      "source": [
        "# Path to your PDF file\n",
        "pdf_file_path = '/content/sample_data/test_usecase_document.pdf'"
      ],
      "metadata": {
        "id": "r7NSy-bGVPYy"
      },
      "id": "r7NSy-bGVPYy",
      "execution_count": null,
      "outputs": []
    },
    {
      "cell_type": "code",
      "execution_count": null,
      "id": "6ecd660d",
      "metadata": {
        "id": "6ecd660d"
      },
      "outputs": [],
      "source": [
        "# Open the PDF file\n",
        "with open(pdf_file_path, 'rb') as pdf_file:\n",
        "  # Create a PDF reader object\n",
        "  pdf_reader = pdf.PdfReader(pdf_file)\n",
        "\n",
        "  # Initialize an empty string to store the extracted text\n",
        "  pdf_text = ''\n",
        "\n",
        "  # Iterate through each page and extract text\n",
        "  for page_num in range(len(pdf_reader.pages)):\n",
        "      page = pdf_reader.pages[page_num]\n",
        "      pdf_text += page.extract_text()\n"
      ]
    },
    {
      "cell_type": "code",
      "execution_count": null,
      "id": "a9098697",
      "metadata": {
        "id": "a9098697",
        "colab": {
          "base_uri": "https://localhost:8080/",
          "height": 35
        },
        "outputId": "a8b96f5a-2177-48f9-b35a-f893d138030e"
      },
      "outputs": [
        {
          "output_type": "execute_result",
          "data": {
            "text/plain": [
              "' \\n  \\n7.1  Import and export of knowledge in an autonomous network  \\n  \\nUse case ID  AN-usecase -001 '"
            ],
            "application/vnd.google.colaboratory.intrinsic+json": {
              "type": "string"
            }
          },
          "metadata": {},
          "execution_count": 7
        }
      ],
      "source": [
        "pdf_text[:100]"
      ]
    },
    {
      "cell_type": "code",
      "source": [
        "# Remove all puntuation in text\n",
        "text= ''.join([c for c in pdf_text if c not in string.punctuation])"
      ],
      "metadata": {
        "id": "evTHfmpLa5_M"
      },
      "id": "evTHfmpLa5_M",
      "execution_count": null,
      "outputs": []
    },
    {
      "cell_type": "code",
      "source": [
        "text[:100]"
      ],
      "metadata": {
        "colab": {
          "base_uri": "https://localhost:8080/",
          "height": 35
        },
        "id": "DXrVPM2SFFXa",
        "outputId": "38698e45-e425-4b18-8ae4-ab7d9e47a66b"
      },
      "id": "DXrVPM2SFFXa",
      "execution_count": null,
      "outputs": [
        {
          "output_type": "execute_result",
          "data": {
            "text/plain": [
              "' \\n  \\n71  Import and export of knowledge in an autonomous network  \\n  \\nUse case ID  ANusecase 001  \\nU'"
            ],
            "application/vnd.google.colaboratory.intrinsic+json": {
              "type": "string"
            }
          },
          "metadata": {},
          "execution_count": 18
        }
      ]
    },
    {
      "cell_type": "code",
      "source": [
        "len(text)"
      ],
      "metadata": {
        "colab": {
          "base_uri": "https://localhost:8080/"
        },
        "id": "KmJP3D6TSskL",
        "outputId": "e2f31994-2be8-4065-bed9-1e64e9822b20"
      },
      "id": "KmJP3D6TSskL",
      "execution_count": null,
      "outputs": [
        {
          "output_type": "execute_result",
          "data": {
            "text/plain": [
              "9655"
            ]
          },
          "metadata": {},
          "execution_count": 19
        }
      ]
    },
    {
      "cell_type": "code",
      "source": [
        "\n",
        "#Tokenize the pdf text\n",
        "tokens = text.split()"
      ],
      "metadata": {
        "id": "Q63C2oONbJKy"
      },
      "id": "Q63C2oONbJKy",
      "execution_count": null,
      "outputs": []
    },
    {
      "cell_type": "code",
      "source": [
        "\n",
        "#show first 10 elements of token list\n",
        "tokens[:10]"
      ],
      "metadata": {
        "colab": {
          "base_uri": "https://localhost:8080/"
        },
        "id": "JVfrU53iLLq_",
        "outputId": "028e24b3-afcf-4525-df88-c143bb8c2547"
      },
      "id": "JVfrU53iLLq_",
      "execution_count": null,
      "outputs": [
        {
          "output_type": "execute_result",
          "data": {
            "text/plain": [
              "['71',\n",
              " 'Import',\n",
              " 'and',\n",
              " 'export',\n",
              " 'of',\n",
              " 'knowledge',\n",
              " 'in',\n",
              " 'an',\n",
              " 'autonomous',\n",
              " 'network']"
            ]
          },
          "metadata": {},
          "execution_count": 23
        }
      ]
    },
    {
      "cell_type": "code",
      "source": [
        "\n",
        "#number of elements in tokens list\n",
        "len(tokens)"
      ],
      "metadata": {
        "colab": {
          "base_uri": "https://localhost:8080/"
        },
        "id": "t99WuTL6LxGs",
        "outputId": "0bba0c16-08a5-42ab-91c0-f3ed2fd29e40"
      },
      "id": "t99WuTL6LxGs",
      "execution_count": null,
      "outputs": [
        {
          "output_type": "execute_result",
          "data": {
            "text/plain": [
              "1474"
            ]
          },
          "metadata": {},
          "execution_count": 24
        }
      ]
    },
    {
      "cell_type": "code",
      "source": [
        "\n",
        "#import nltk library and download necessary files\n",
        "import nltk\n",
        "from nltk import word_tokenize, pos_tag\n",
        "nltk.download('averaged_perceptron_tagger')\n",
        "nltk.download('stopwords')"
      ],
      "metadata": {
        "id": "-mDDsxZSZNRr"
      },
      "id": "-mDDsxZSZNRr",
      "execution_count": null,
      "outputs": []
    },
    {
      "cell_type": "code",
      "source": [
        "\n",
        "#Import nltk library stopwords\n",
        "from nltk.corpus import stopwords"
      ],
      "metadata": {
        "id": "OFgACjiKL1vd"
      },
      "id": "OFgACjiKL1vd",
      "execution_count": null,
      "outputs": []
    },
    {
      "cell_type": "code",
      "source": [
        "\n",
        "#Remove stopwords from tokens\n",
        "tokens=[word for word in tokens if word.lower() not in stopwords.words('english')]"
      ],
      "metadata": {
        "id": "S52qhPKzL4WW"
      },
      "id": "S52qhPKzL4WW",
      "execution_count": null,
      "outputs": []
    },
    {
      "cell_type": "code",
      "source": [
        "\n",
        "#Number of elements in new tokens list\n",
        "len(tokens)"
      ],
      "metadata": {
        "colab": {
          "base_uri": "https://localhost:8080/"
        },
        "id": "krin303FMAMe",
        "outputId": "551d2d0d-6ab0-4e57-b45a-5fd1d7667c83"
      },
      "id": "krin303FMAMe",
      "execution_count": null,
      "outputs": [
        {
          "output_type": "execute_result",
          "data": {
            "text/plain": [
              "945"
            ]
          },
          "metadata": {},
          "execution_count": 30
        }
      ]
    },
    {
      "cell_type": "code",
      "source": [
        "\n",
        "#remove numbers and single characters word from tokens list\n",
        "tokens = [word for word in tokens if not (word.isdigit() or len(word) == 1)]"
      ],
      "metadata": {
        "id": "FRILdsIMMCOA"
      },
      "id": "FRILdsIMMCOA",
      "execution_count": null,
      "outputs": []
    },
    {
      "cell_type": "code",
      "source": [
        "tokens = [word for word in tokens if not (word == 'Use' or word == 'use' or word == 'case')]"
      ],
      "metadata": {
        "id": "sNR-tmXyMI1d"
      },
      "id": "sNR-tmXyMI1d",
      "execution_count": null,
      "outputs": []
    },
    {
      "cell_type": "code",
      "source": [
        "len(tokens)"
      ],
      "metadata": {
        "colab": {
          "base_uri": "https://localhost:8080/"
        },
        "id": "afPOVJNGMKKW",
        "outputId": "23563247-45d2-49e7-bdf5-bc9b9cf0e570"
      },
      "id": "afPOVJNGMKKW",
      "execution_count": null,
      "outputs": [
        {
          "output_type": "execute_result",
          "data": {
            "text/plain": [
              "793"
            ]
          },
          "metadata": {},
          "execution_count": 36
        }
      ]
    },
    {
      "cell_type": "code",
      "source": [
        "tokens[:10]"
      ],
      "metadata": {
        "colab": {
          "base_uri": "https://localhost:8080/"
        },
        "id": "KqosmPXNMMRW",
        "outputId": "e9fec870-8eaf-42e6-dcc2-a2657d0d224a"
      },
      "id": "KqosmPXNMMRW",
      "execution_count": null,
      "outputs": [
        {
          "output_type": "execute_result",
          "data": {
            "text/plain": [
              "['Import',\n",
              " 'export',\n",
              " 'knowledge',\n",
              " 'autonomous',\n",
              " 'network',\n",
              " 'ID',\n",
              " 'ANusecase',\n",
              " 'description',\n",
              " 'satisfy',\n",
              " 'key']"
            ]
          },
          "metadata": {},
          "execution_count": 41
        }
      ]
    },
    {
      "cell_type": "code",
      "source": [
        "\n",
        "#import spacy library\n",
        "import spacy\n",
        "nlp = spacy.load(\"en_core_web_sm\")"
      ],
      "metadata": {
        "id": "VvcOE5uFMOR-"
      },
      "id": "VvcOE5uFMOR-",
      "execution_count": null,
      "outputs": []
    },
    {
      "cell_type": "code",
      "source": [
        "word_list = tokens\n",
        "# Join the words into a text string\n",
        "text = ' '.join(word_list)\n",
        "\n",
        "# Process the text with spaCy\n",
        "doc = nlp(text)\n",
        "\n",
        "# Extract nouns\n",
        "noun = [token.text for token in doc if token.pos_ == \"NOUN\"]\n",
        "\n",
        "# Print the extracted nouns\n",
        "print(noun[:100])"
      ],
      "metadata": {
        "colab": {
          "base_uri": "https://localhost:8080/"
        },
        "id": "Y1_SuvUvMSdW",
        "outputId": "12077116-4f0f-4f5c-99f8-e02a0a6ce4aa"
      },
      "id": "Y1_SuvUvMSdW",
      "execution_count": null,
      "outputs": [
        {
          "output_type": "stream",
          "name": "stdout",
          "text": [
            "['Import', 'export', 'knowledge', 'network', 'description', 'concepts', 'ANs', 'evolution', 'experimentation', 'adaptation', 'intervention', 'knowledge', 'knowledge', 'representation', 'data', 'environment', 'system', 'actions', 'configuration', 'options', 'measurement', 'parameters', 'elements', 'logic', 'scenarios', 'knowledge', 'actors', 'scenarios', 'steps', 'peer', 'entities', 'components', 'eg', 'evolution', 'exploration', 'configuration', 'automation', 'loops', 'consumption', 'components', 'components', 'peer', 'entities', 'category', 'scenario', 'behaviour', 'requirements', 'requirements', 'exchange', 'knowledge', 'components', 'ANUC01', 'optimization', 'knowledge', 'bases', 'optimizations', 'knowledge', 'bases', 'access', 'policies', 'arity', 'storage', 'interconnection', 'knowledge', 'bases', 'relation', 'problems', 'solutions', 'knowledge', 'ANUC01', 'creation', 'knowledge', 'bases', 'ion', 'humans', 'machines', 'contents', 'statistics', 'knowledge', 'components', 'network', 'services', 'domains', 'exchange', 'knowledge', 'components', 'entities', 'domain', 'NOTE', 'entities', 'components', 'network', 'services', 'knowledge', 'bases', 'level', 'descriptions', 'controller', 'specification', 'specification']\n"
          ]
        }
      ]
    },
    {
      "cell_type": "code",
      "source": [
        "len(noun)"
      ],
      "metadata": {
        "colab": {
          "base_uri": "https://localhost:8080/"
        },
        "id": "2vizacIkMf5l",
        "outputId": "43dbcafb-53ab-4ff4-94dc-b0a285214448"
      },
      "id": "2vizacIkMf5l",
      "execution_count": null,
      "outputs": [
        {
          "output_type": "execute_result",
          "data": {
            "text/plain": [
              "398"
            ]
          },
          "metadata": {},
          "execution_count": 43
        }
      ]
    },
    {
      "cell_type": "code",
      "source": [
        "\n",
        "#using nltk go get the various part of speech\n",
        "parts_of_speech = pos_tag(noun)\n",
        "len(parts_of_speech)"
      ],
      "metadata": {
        "colab": {
          "base_uri": "https://localhost:8080/"
        },
        "id": "d1LXaxFZMi1X",
        "outputId": "eae52cfa-a696-49c7-9f5a-b5ce98dd953a"
      },
      "id": "d1LXaxFZMi1X",
      "execution_count": null,
      "outputs": [
        {
          "output_type": "execute_result",
          "data": {
            "text/plain": [
              "398"
            ]
          },
          "metadata": {},
          "execution_count": 44
        }
      ]
    },
    {
      "cell_type": "code",
      "source": [
        "parts_of_speech[:10]"
      ],
      "metadata": {
        "colab": {
          "base_uri": "https://localhost:8080/"
        },
        "id": "T1UDVKhPMls1",
        "outputId": "83874e66-18e1-4eea-e3e0-fa15f5d49428"
      },
      "id": "T1UDVKhPMls1",
      "execution_count": null,
      "outputs": [
        {
          "output_type": "execute_result",
          "data": {
            "text/plain": [
              "[('Import', 'NNP'),\n",
              " ('export', 'NN'),\n",
              " ('knowledge', 'NN'),\n",
              " ('network', 'NN'),\n",
              " ('description', 'NN'),\n",
              " ('concepts', 'NNS'),\n",
              " ('ANs', 'NNP'),\n",
              " ('evolution', 'NN'),\n",
              " ('experimentation', 'NN'),\n",
              " ('adaptation', 'NN')]"
            ]
          },
          "metadata": {},
          "execution_count": 45
        }
      ]
    },
    {
      "cell_type": "code",
      "source": [
        "\n",
        "#extract nouns from the tokens list\n",
        "nouns = list(set(filter(lambda x: x[1]==\"NN\" , parts_of_speech)))"
      ],
      "metadata": {
        "id": "OAoPB2dcMt0G"
      },
      "id": "OAoPB2dcMt0G",
      "execution_count": null,
      "outputs": []
    },
    {
      "cell_type": "code",
      "source": [
        "nouns"
      ],
      "metadata": {
        "id": "WCmTL4A0Mww-"
      },
      "id": "WCmTL4A0Mww-",
      "execution_count": null,
      "outputs": []
    },
    {
      "cell_type": "code",
      "source": [
        "len(nouns)"
      ],
      "metadata": {
        "colab": {
          "base_uri": "https://localhost:8080/"
        },
        "id": "51b-bqA8Mzxf",
        "outputId": "f65b15c4-5463-49e8-c2a2-300cb17dcfe2"
      },
      "id": "51b-bqA8Mzxf",
      "execution_count": null,
      "outputs": [
        {
          "output_type": "execute_result",
          "data": {
            "text/plain": [
              "74"
            ]
          },
          "metadata": {},
          "execution_count": 54
        }
      ]
    }
  ],
  "metadata": {
    "kernelspec": {
      "display_name": "Python 3 (ipykernel)",
      "language": "python",
      "name": "python3"
    },
    "language_info": {
      "codemirror_mode": {
        "name": "ipython",
        "version": 3
      },
      "file_extension": ".py",
      "mimetype": "text/x-python",
      "name": "python",
      "nbconvert_exporter": "python",
      "pygments_lexer": "ipython3",
      "version": "3.10.9"
    },
    "colab": {
      "provenance": [],
      "include_colab_link": true
    }
  },
  "nbformat": 4,
  "nbformat_minor": 5
}