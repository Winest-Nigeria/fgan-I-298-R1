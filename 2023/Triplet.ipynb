{
  "cells": [
    {
      "cell_type": "markdown",
      "metadata": {
        "id": "view-in-github",
        "colab_type": "text"
      },
      "source": [
        "<a href=\"https://colab.research.google.com/github/Winest-Nigeria/fgan-I-298-R1/blob/main/2023/Triplet.ipynb\" target=\"_parent\"><img src=\"https://colab.research.google.com/assets/colab-badge.svg\" alt=\"Open In Colab\"/></a>"
      ]
    },
    {
      "cell_type": "code",
      "source": [
        "!pip install pyPDF2"
      ],
      "metadata": {
        "colab": {
          "base_uri": "https://localhost:8080/"
        },
        "id": "xkDtA5P9Wl30",
        "outputId": "79de0b9b-b27d-4a72-b577-102e3a01e718"
      },
      "id": "xkDtA5P9Wl30",
      "execution_count": null,
      "outputs": [
        {
          "output_type": "stream",
          "name": "stdout",
          "text": [
            "Collecting pyPDF2\n",
            "  Downloading pypdf2-3.0.1-py3-none-any.whl (232 kB)\n",
            "\u001b[?25l     \u001b[90m━━━━━━━━━━━━━━━━━━━━━━━━━━━━━━━━━━━━━━━━\u001b[0m \u001b[32m0.0/232.6 kB\u001b[0m \u001b[31m?\u001b[0m eta \u001b[36m-:--:--\u001b[0m\r\u001b[2K     \u001b[91m━━━━━━━━━━━━━━━━━━━━━━━━━━━━━━━━\u001b[0m\u001b[91m╸\u001b[0m\u001b[90m━━━━━━\u001b[0m \u001b[32m194.6/232.6 kB\u001b[0m \u001b[31m5.7 MB/s\u001b[0m eta \u001b[36m0:00:01\u001b[0m\r\u001b[2K     \u001b[90m━━━━━━━━━━━━━━━━━━━━━━━━━━━━━━━━━━━━━━━\u001b[0m \u001b[32m232.6/232.6 kB\u001b[0m \u001b[31m5.1 MB/s\u001b[0m eta \u001b[36m0:00:00\u001b[0m\n",
            "\u001b[?25hInstalling collected packages: pyPDF2\n",
            "Successfully installed pyPDF2-3.0.1\n"
          ]
        }
      ]
    },
    {
      "cell_type": "code",
      "execution_count": null,
      "id": "72467097",
      "metadata": {
        "id": "72467097"
      },
      "outputs": [],
      "source": [
        "import PyPDF2 as pdf\n",
        "import string"
      ]
    },
    {
      "cell_type": "code",
      "source": [
        "# Path to your PDF file\n",
        "pdf_file_path = '/content/sample_data/test_usecase_document.pdf'"
      ],
      "metadata": {
        "id": "r7NSy-bGVPYy"
      },
      "id": "r7NSy-bGVPYy",
      "execution_count": null,
      "outputs": []
    },
    {
      "cell_type": "code",
      "execution_count": null,
      "id": "6ecd660d",
      "metadata": {
        "id": "6ecd660d"
      },
      "outputs": [],
      "source": [
        "# Open the PDF file\n",
        "with open(pdf_file_path, 'rb') as pdf_file:\n",
        "  # Create a PDF reader object\n",
        "  pdf_reader = pdf.PdfReader(pdf_file)\n",
        "\n",
        "  # Initialize an empty string to store the extracted text\n",
        "  pdf_text = ''\n",
        "\n",
        "  # Iterate through each page and extract text\n",
        "  for page_num in range(len(pdf_reader.pages)):\n",
        "      page = pdf_reader.pages[page_num]\n",
        "      pdf_text += page.extract_text()\n"
      ]
    },
    {
      "cell_type": "code",
      "execution_count": null,
      "id": "a9098697",
      "metadata": {
        "id": "a9098697",
        "colab": {
          "base_uri": "https://localhost:8080/",
          "height": 35
        },
        "outputId": "a8b96f5a-2177-48f9-b35a-f893d138030e"
      },
      "outputs": [
        {
          "output_type": "execute_result",
          "data": {
            "text/plain": [
              "' \\n  \\n7.1  Import and export of knowledge in an autonomous network  \\n  \\nUse case ID  AN-usecase -001 '"
            ],
            "application/vnd.google.colaboratory.intrinsic+json": {
              "type": "string"
            }
          },
          "metadata": {},
          "execution_count": 7
        }
      ],
      "source": [
        "pdf_text[:100]"
      ]
    },
    {
      "cell_type": "code",
      "source": [
        "# Remove all puntuation in text\n",
        "text= ''.join([c for c in pdf_text if c not in string.punctuation])"
      ],
      "metadata": {
        "id": "evTHfmpLa5_M"
      },
      "id": "evTHfmpLa5_M",
      "execution_count": null,
      "outputs": []
    },
    {
      "cell_type": "code",
      "source": [
        "text[:100]"
      ],
      "metadata": {
        "colab": {
          "base_uri": "https://localhost:8080/",
          "height": 35
        },
        "id": "DXrVPM2SFFXa",
        "outputId": "38698e45-e425-4b18-8ae4-ab7d9e47a66b"
      },
      "id": "DXrVPM2SFFXa",
      "execution_count": null,
      "outputs": [
        {
          "output_type": "execute_result",
          "data": {
            "text/plain": [
              "' \\n  \\n71  Import and export of knowledge in an autonomous network  \\n  \\nUse case ID  ANusecase 001  \\nU'"
            ],
            "application/vnd.google.colaboratory.intrinsic+json": {
              "type": "string"
            }
          },
          "metadata": {},
          "execution_count": 18
        }
      ]
    },
    {
      "cell_type": "code",
      "source": [
        "len(text)"
      ],
      "metadata": {
        "colab": {
          "base_uri": "https://localhost:8080/"
        },
        "id": "KmJP3D6TSskL",
        "outputId": "e2f31994-2be8-4065-bed9-1e64e9822b20"
      },
      "id": "KmJP3D6TSskL",
      "execution_count": null,
      "outputs": [
        {
          "output_type": "execute_result",
          "data": {
            "text/plain": [
              "9655"
            ]
          },
          "metadata": {},
          "execution_count": 19
        }
      ]
    },
    {
      "cell_type": "code",
      "source": [
        "\n",
        "#Tokenize the pdf text\n",
        "tokens = text.split()"
      ],
      "metadata": {
        "id": "Q63C2oONbJKy"
      },
      "id": "Q63C2oONbJKy",
      "execution_count": null,
      "outputs": []
    },
    {
      "cell_type": "code",
      "source": [
        "\n",
        "#show first 10 elements of token list\n",
        "tokens[:10]"
      ],
      "metadata": {
        "colab": {
          "base_uri": "https://localhost:8080/"
        },
        "id": "JVfrU53iLLq_",
        "outputId": "028e24b3-afcf-4525-df88-c143bb8c2547"
      },
      "id": "JVfrU53iLLq_",
      "execution_count": null,
      "outputs": [
        {
          "output_type": "execute_result",
          "data": {
            "text/plain": [
              "['71',\n",
              " 'Import',\n",
              " 'and',\n",
              " 'export',\n",
              " 'of',\n",
              " 'knowledge',\n",
              " 'in',\n",
              " 'an',\n",
              " 'autonomous',\n",
              " 'network']"
            ]
          },
          "metadata": {},
          "execution_count": 23
        }
      ]
    },
    {
      "cell_type": "code",
      "source": [
        "#number of elements in tokens list\n",
        "len(tokens)"
      ],
      "metadata": {
        "colab": {
          "base_uri": "https://localhost:8080/"
        },
        "id": "t99WuTL6LxGs",
        "outputId": "0bba0c16-08a5-42ab-91c0-f3ed2fd29e40"
      },
      "id": "t99WuTL6LxGs",
      "execution_count": null,
      "outputs": [
        {
          "output_type": "execute_result",
          "data": {
            "text/plain": [
              "1474"
            ]
          },
          "metadata": {},
          "execution_count": 24
        }
      ]
    },
    {
      "cell_type": "code",
      "source": [
        "#import nltk library and download necessary files\n",
        "import nltk\n",
        "from nltk import word_tokenize, pos_tag\n",
        "nltk.download('averaged_perceptron_tagger')\n",
        "nltk.download('stopwords')"
      ],
      "metadata": {
        "id": "-mDDsxZSZNRr"
      },
      "id": "-mDDsxZSZNRr",
      "execution_count": null,
      "outputs": []
    },
    {
      "cell_type": "code",
      "source": [
        "#Import nltk library stopwords\n",
        "from nltk.corpus import stopwords"
      ],
      "metadata": {
        "id": "OFgACjiKL1vd"
      },
      "id": "OFgACjiKL1vd",
      "execution_count": null,
      "outputs": []
    },
    {
      "cell_type": "code",
      "source": [
        "#Remove stopwords from tokens\n",
        "tokens=[word for word in tokens if word.lower() not in stopwords.words('english')]"
      ],
      "metadata": {
        "id": "S52qhPKzL4WW"
      },
      "id": "S52qhPKzL4WW",
      "execution_count": null,
      "outputs": []
    },
    {
      "cell_type": "code",
      "source": [
        "#Number of elements in new tokens list\n",
        "len(tokens)"
      ],
      "metadata": {
        "colab": {
          "base_uri": "https://localhost:8080/"
        },
        "id": "krin303FMAMe",
        "outputId": "551d2d0d-6ab0-4e57-b45a-5fd1d7667c83"
      },
      "id": "krin303FMAMe",
      "execution_count": null,
      "outputs": [
        {
          "output_type": "execute_result",
          "data": {
            "text/plain": [
              "945"
            ]
          },
          "metadata": {},
          "execution_count": 30
        }
      ]
    },
    {
      "cell_type": "code",
      "source": [
        "#remove numbers and single character from tokens list\n",
        "tokens = [word for word in tokens if not (word.isdigit() or len(word) == 1)]"
      ],
      "metadata": {
        "id": "FRILdsIMMCOA"
      },
      "id": "FRILdsIMMCOA",
      "execution_count": null,
      "outputs": []
    },
    {
      "cell_type": "code",
      "source": [
        "tokens = [word for word in tokens if not (word == 'Use' or word == 'use' or word == 'case')]"
      ],
      "metadata": {
        "id": "sNR-tmXyMI1d"
      },
      "id": "sNR-tmXyMI1d",
      "execution_count": null,
      "outputs": []
    },
    {
      "cell_type": "code",
      "source": [
        "len(tokens)"
      ],
      "metadata": {
        "colab": {
          "base_uri": "https://localhost:8080/"
        },
        "id": "afPOVJNGMKKW",
        "outputId": "23563247-45d2-49e7-bdf5-bc9b9cf0e570"
      },
      "id": "afPOVJNGMKKW",
      "execution_count": null,
      "outputs": [
        {
          "output_type": "execute_result",
          "data": {
            "text/plain": [
              "793"
            ]
          },
          "metadata": {},
          "execution_count": 36
        }
      ]
    },
    {
      "cell_type": "code",
      "source": [
        "tokens[:10]"
      ],
      "metadata": {
        "colab": {
          "base_uri": "https://localhost:8080/"
        },
        "id": "KqosmPXNMMRW",
        "outputId": "e9fec870-8eaf-42e6-dcc2-a2657d0d224a"
      },
      "id": "KqosmPXNMMRW",
      "execution_count": null,
      "outputs": [
        {
          "output_type": "execute_result",
          "data": {
            "text/plain": [
              "['Import',\n",
              " 'export',\n",
              " 'knowledge',\n",
              " 'autonomous',\n",
              " 'network',\n",
              " 'ID',\n",
              " 'ANusecase',\n",
              " 'description',\n",
              " 'satisfy',\n",
              " 'key']"
            ]
          },
          "metadata": {},
          "execution_count": 41
        }
      ]
    },
    {
      "cell_type": "code",
      "source": [
        "\n",
        "#import spacy library\n",
        "import spacy\n",
        "nlp = spacy.load(\"en_core_web_sm\")"
      ],
      "metadata": {
        "id": "VvcOE5uFMOR-"
      },
      "id": "VvcOE5uFMOR-",
      "execution_count": null,
      "outputs": []
    },
    {
      "cell_type": "code",
      "source": [
        "word_list = tokens\n",
        "# Join the words into a text string\n",
        "text = ' '.join(word_list)\n",
        "\n",
        "# Process the text with spaCy\n",
        "doc = nlp(text)\n",
        "\n",
        "# Extract nouns\n",
        "noun = [token.text for token in doc if token.pos_ == \"NOUN\"]\n",
        "\n",
        "# Print the extracted nouns\n",
        "print(noun[:100])"
      ],
      "metadata": {
        "colab": {
          "base_uri": "https://localhost:8080/"
        },
        "id": "Y1_SuvUvMSdW",
        "outputId": "12077116-4f0f-4f5c-99f8-e02a0a6ce4aa"
      },
      "id": "Y1_SuvUvMSdW",
      "execution_count": null,
      "outputs": [
        {
          "output_type": "stream",
          "name": "stdout",
          "text": [
            "['Import', 'export', 'knowledge', 'network', 'description', 'concepts', 'ANs', 'evolution', 'experimentation', 'adaptation', 'intervention', 'knowledge', 'knowledge', 'representation', 'data', 'environment', 'system', 'actions', 'configuration', 'options', 'measurement', 'parameters', 'elements', 'logic', 'scenarios', 'knowledge', 'actors', 'scenarios', 'steps', 'peer', 'entities', 'components', 'eg', 'evolution', 'exploration', 'configuration', 'automation', 'loops', 'consumption', 'components', 'components', 'peer', 'entities', 'category', 'scenario', 'behaviour', 'requirements', 'requirements', 'exchange', 'knowledge', 'components', 'ANUC01', 'optimization', 'knowledge', 'bases', 'optimizations', 'knowledge', 'bases', 'access', 'policies', 'arity', 'storage', 'interconnection', 'knowledge', 'bases', 'relation', 'problems', 'solutions', 'knowledge', 'ANUC01', 'creation', 'knowledge', 'bases', 'ion', 'humans', 'machines', 'contents', 'statistics', 'knowledge', 'components', 'network', 'services', 'domains', 'exchange', 'knowledge', 'components', 'entities', 'domain', 'NOTE', 'entities', 'components', 'network', 'services', 'knowledge', 'bases', 'level', 'descriptions', 'controller', 'specification', 'specification']\n"
          ]
        }
      ]
    },
    {
      "cell_type": "code",
      "source": [
        "len(noun)"
      ],
      "metadata": {
        "colab": {
          "base_uri": "https://localhost:8080/"
        },
        "id": "2vizacIkMf5l",
        "outputId": "43dbcafb-53ab-4ff4-94dc-b0a285214448"
      },
      "id": "2vizacIkMf5l",
      "execution_count": null,
      "outputs": [
        {
          "output_type": "execute_result",
          "data": {
            "text/plain": [
              "398"
            ]
          },
          "metadata": {},
          "execution_count": 43
        }
      ]
    },
    {
      "cell_type": "code",
      "source": [
        "\n",
        "# using nltk to retrieve the part of speech\n",
        "parts_of_speech = pos_tag(noun)\n",
        "len(parts_of_speech)"
      ],
      "metadata": {
        "colab": {
          "base_uri": "https://localhost:8080/"
        },
        "id": "d1LXaxFZMi1X",
        "outputId": "eae52cfa-a696-49c7-9f5a-b5ce98dd953a"
      },
      "id": "d1LXaxFZMi1X",
      "execution_count": null,
      "outputs": [
        {
          "output_type": "execute_result",
          "data": {
            "text/plain": [
              "398"
            ]
          },
          "metadata": {},
          "execution_count": 44
        }
      ]
    },
    {
      "cell_type": "code",
      "source": [
        "parts_of_speech[:10]"
      ],
      "metadata": {
        "colab": {
          "base_uri": "https://localhost:8080/"
        },
        "id": "T1UDVKhPMls1",
        "outputId": "83874e66-18e1-4eea-e3e0-fa15f5d49428"
      },
      "id": "T1UDVKhPMls1",
      "execution_count": null,
      "outputs": [
        {
          "output_type": "execute_result",
          "data": {
            "text/plain": [
              "[('Import', 'NNP'),\n",
              " ('export', 'NN'),\n",
              " ('knowledge', 'NN'),\n",
              " ('network', 'NN'),\n",
              " ('description', 'NN'),\n",
              " ('concepts', 'NNS'),\n",
              " ('ANs', 'NNP'),\n",
              " ('evolution', 'NN'),\n",
              " ('experimentation', 'NN'),\n",
              " ('adaptation', 'NN')]"
            ]
          },
          "metadata": {},
          "execution_count": 45
        }
      ]
    },
    {
      "cell_type": "code",
      "source": [
        "#extract nouns from the tokens list\n",
        "nouns = list(set(filter(lambda x: x[1]==\"NN\" , parts_of_speech)))"
      ],
      "metadata": {
        "id": "OAoPB2dcMt0G"
      },
      "id": "OAoPB2dcMt0G",
      "execution_count": null,
      "outputs": []
    },
    {
      "cell_type": "code",
      "source": [
        "nouns"
      ],
      "metadata": {
        "id": "WCmTL4A0Mww-"
      },
      "id": "WCmTL4A0Mww-",
      "execution_count": null,
      "outputs": []
    },
    {
      "cell_type": "code",
      "source": [
        "len(nouns)"
      ],
      "metadata": {
        "colab": {
          "base_uri": "https://localhost:8080/"
        },
        "id": "51b-bqA8Mzxf",
        "outputId": "f65b15c4-5463-49e8-c2a2-300cb17dcfe2"
      },
      "id": "51b-bqA8Mzxf",
      "execution_count": null,
      "outputs": [
        {
          "output_type": "execute_result",
          "data": {
            "text/plain": [
              "74"
            ]
          },
          "metadata": {},
          "execution_count": 54
        }
      ]
    },
    {
      "cell_type": "markdown",
      "source": [
        "**For Colab users:**\n",
        "If you are using colab, add your credentials here and uncomment these"
      ],
      "metadata": {
        "id": "kgHDa-LnjECa"
      },
      "id": "kgHDa-LnjECa"
    },
    {
      "cell_type": "code",
      "source": [
        "uri = \"neo4j+s://59fc3694.databases.neo4j.io:7687\"\n",
        "user = \"neo4j\"\n",
        "password = \"Yl2OjSlWtbYUfPUJdNgevZWGBHzjtP234TuWD7rePsk\""
      ],
      "metadata": {
        "id": "FIsaTA3gjCwj"
      },
      "execution_count": null,
      "outputs": [],
      "id": "FIsaTA3gjCwj"
    },
    {
      "cell_type": "code",
      "source": [
        "%pip install neo4j"
      ],
      "metadata": {
        "id": "ukP_Z8KcjoWb",
        "outputId": "dbab322e-1c8f-4a7b-b3f9-0654a096f9aa",
        "colab": {
          "base_uri": "https://localhost:8080/"
        }
      },
      "execution_count": null,
      "outputs": [
        {
          "output_type": "stream",
          "name": "stdout",
          "text": [
            "Requirement already satisfied: neo4j in /usr/local/lib/python3.10/dist-packages (5.13.0)\n",
            "Requirement already satisfied: pytz in /usr/local/lib/python3.10/dist-packages (from neo4j) (2023.3.post1)\n"
          ]
        }
      ],
      "id": "ukP_Z8KcjoWb"
    },
    {
      "cell_type": "code",
      "source": [
        "from neo4j import GraphDatabase\n",
        "import logging\n",
        "from neo4j.exceptions import ServiceUnavailable"
      ],
      "metadata": {
        "id": "_FYAiLG1jpX7"
      },
      "execution_count": null,
      "outputs": [],
      "id": "_FYAiLG1jpX7"
    },
    {
      "cell_type": "markdown",
      "source": [
        "**Define helper class**"
      ],
      "metadata": {
        "id": "iaRPcgl9jUAb"
      },
      "id": "iaRPcgl9jUAb"
    },
    {
      "cell_type": "code",
      "source": [
        "class App:\n",
        "\n",
        "    def __init__(self, uri, user, password):\n",
        "        self.driver = GraphDatabase.driver(uri, auth=(user, password))\n",
        "\n",
        "    def close(self):\n",
        "        # Don't forget to close the driver connection when you are finished with it\n",
        "        self.driver.close()\n",
        "\n",
        "    #Vishnu: 1 Aug 2022: uses labels instead of properties\n",
        "    #Vishnu: 1 Aug 2022: Invariant: only 1 actor with 1 name.\n",
        "    #        (Note that rel still uses properties and not labels)\n",
        "    def create_node_with_usecase_label(self, actor_name, usecase_id):\n",
        "        with self.driver.session() as session:\n",
        "            node_already_exists = session.read_transaction(\n",
        "                self._find_and_return_existing_node_label, actor_name)\n",
        "            if not node_already_exists:\n",
        "                #node itself doesnt exist (not to mention the use case label), Lets add.\n",
        "                result = session.write_transaction(\n",
        "                    self._create_and_return_node_label, actor_name, usecase_id)\n",
        "                for row in result:\n",
        "                    print(\"Created node: {n1}\".format(n1=row['n1name']))\n",
        "            else:\n",
        "                for row in node_already_exists:\n",
        "                    print(\"Node already exists: {name} in {usecase}\".format(name=row['n1name'],\n",
        "                                                                 usecase=row['n1usecase']))\n",
        "                    if not (usecase_id in row['n1usecase']):\n",
        "                      print(\"adding label \"\n",
        "                                +usecase_id+\n",
        "                                \" in addition to {usecase}\".format(usecase=row['n1usecase']))\n",
        "                      result = session.write_transaction(\n",
        "                                self._add_usecase_and_return_existing_node_label, actor_name, usecase_id)\n",
        "                    else:\n",
        "                      print(\"ignoring ...\")\n",
        "                    #row has only 1 entry due to invariant. So break here. and exit f()\n",
        "                    break\n",
        "\n",
        "    #Vishnu: 1 Aug 2022: created this f() to query nodes based on a name\n",
        "    #                    and return with usecase labels\n",
        "    @staticmethod\n",
        "    def _find_and_return_existing_node_label(tx, actor_name):\n",
        "        query = (\n",
        "            \"MATCH (n1) \"\n",
        "            \"WHERE (n1.name ='\" + actor_name + \"') \"\n",
        "            \"RETURN n1.name as n1name, labels(n1) as n1usecase\"\n",
        "        )\n",
        "        result = tx.run(query)\n",
        "        try:\n",
        "            return [{\"n1name\": row[\"n1name\"],\"n1usecase\": row[\"n1usecase\"]}\n",
        "                    for row in result]\n",
        "        # Capture any errors along with the query and data for traceability\n",
        "        except ServiceUnavailable as exception:\n",
        "            logging.error(\"{query} raised an error: \\n {exception}\".format(\n",
        "                query=query, exception=exception))\n",
        "            raise\n",
        "\n",
        "    #Vishnu: 1 Aug 2022: created this f() to create nodes with usecase label\n",
        "    @staticmethod\n",
        "    def _create_and_return_node_label(tx, actor_name, usecase_id):\n",
        "            query = (\n",
        "            \"CREATE (n1 :\" + usecase_id + \" { name: '\" + actor_name + \"'}) \"\n",
        "            \"RETURN n1\"\n",
        "            )\n",
        "            result = tx.run(query, actor_name=actor_name)\n",
        "            try:\n",
        "                return [{\"n1name\": row[\"n1\"][\"name\"]}\n",
        "                        for row in result]\n",
        "            # Capture any errors along with the query and data for traceability\n",
        "            except ServiceUnavailable as exception:\n",
        "                logging.error(\"{query} raised an error: \\n {exception}\".format(\n",
        "                    query=query, exception=exception))\n",
        "                raise\n",
        "\n",
        "    #Vishnu: 1 Aug 2022: created this f() to add use case labels to existing nodes\n",
        "    #                    Note that the existing labels are left there.\n",
        "    @staticmethod\n",
        "    def _add_usecase_and_return_existing_node_label(tx, actor_name, usecase_id):\n",
        "        query = (\n",
        "            \"MATCH \"\n",
        "            \"(n1) \"\n",
        "            \"WHERE n1.name = '\" + actor_name +\"' \"\n",
        "            \"set n1 :\" + usecase_id +\" \"\n",
        "            \"return n1\"\n",
        "        )\n",
        "        result = tx.run(query, actor_name=actor_name)\n",
        "        try:\n",
        "            return [{\"n1\": row[\"n1\"][\"name\"]}\n",
        "                    for row in result]\n",
        "        # Capture any errors along with the query and data for traceability\n",
        "        except ServiceUnavailable as exception:\n",
        "            logging.error(\"{query} raised an error: \\n {exception}\".format(\n",
        "                query=query, exception=exception))\n",
        "            raise\n",
        "\n",
        "    #Vishnu: 1 Aug 2022: created this f() to return all use case actors based on labels\n",
        "    #                    as against properties\n",
        "    @staticmethod\n",
        "    def _find_and_return_all_usecase_actors_label(tx, usecase_id):\n",
        "        query = (\n",
        "            \"MATCH (n) \"\n",
        "            \"WHERE '\" +usecase_id+ \"' in labels(n) \"\n",
        "            \"RETURN n.name AS name\"\n",
        "        )\n",
        "        result = tx.run(query)\n",
        "        return [row[\"name\"] for row in result]\n",
        "\n",
        "    #Vishnu: 1 Aug 2022: created this f() to list all nodes with usecase label\n",
        "    #                    instead of properties\n",
        "    def find_all_usecase_actors_label(self, usecase_id):\n",
        "        all_actors = []\n",
        "        with self.driver.session() as session:\n",
        "            result = session.read_transaction(self._find_and_return_all_usecase_actors_label, usecase_id)\n",
        "            i=0\n",
        "            for row in result:\n",
        "                i=i+1\n",
        "                print(\"Found actor-\"+ str(i) +\": {row}\".format(row=row))\n",
        "                print(row)\n",
        "                all_actors.append(row)\n",
        "        all_actors.sort()\n",
        "        return all_actors\n",
        "\n",
        "    #Vishnu: 1 Aug 2022: Created to use label for use case.\n",
        "    #CAUTION: Assumes that actors already exists with label as use case.\n",
        "    #So, this has to be called only in conjunction with create_node_with_usecase\n",
        "    #otherwise you may end up with actors not having use case prop\n",
        "    #but rels will have use case prop. not a good idea.\n",
        "    def create_rel_with_usecase_label(self, actor1_name, rel_name, actor2_name, usecase_id):\n",
        "        with self.driver.session() as session:\n",
        "            this_rel_already_exists = session.read_transaction(\n",
        "                self._find_and_return_this_existing_rels, actor1_name, rel_name, actor2_name, usecase_id)\n",
        "            if (this_rel_already_exists):\n",
        "                print(rel_name + \" already exists with \"+ usecase_id + \" between \"+ actor1_name + \" and \"+ actor2_name)\n",
        "                return\n",
        "            else:\n",
        "                #we are pretty sure something didnt match\n",
        "                #this relation does not exist currently between the nodes under the use case,\n",
        "                #add it.\n",
        "                result3 = session.write_transaction(\n",
        "                    self._create_and_return_rel_label, actor1_name, rel_name, actor2_name, usecase_id)\n",
        "                #if (not retult3)\n",
        "                for row in result3:\n",
        "                    print(\"Created relation: {actor1} - {rel} - {actor2} in {usecase}\".\n",
        "                            format(actor1=row['n1name'],\n",
        "                            rel=row['r1name'],\n",
        "                            actor2=row['n2name'],\n",
        "                            usecase=row['r1usecase']))\n",
        "\n",
        "    #Vishnu: 1 Aug 2022\n",
        "    #assumption: nodes already exist\n",
        "    #modified from _create_and_return_rel to use labels for n.usecase\n",
        "    @staticmethod\n",
        "    def _create_and_return_rel_label(tx, actor1_name, rel_name, actor2_name, usecaseid):\n",
        "            query = (\n",
        "            \"MATCH \"\n",
        "            \"(n1), \"\n",
        "            \"(n2) \"\n",
        "            \"WHERE n1.name = '\" + actor1_name + \"' AND n2.name = '\"+actor2_name+\"' \"\n",
        "            \" AND '\"+ usecaseid+\"' in labels(n1) \"\n",
        "            \" AND '\"+ usecaseid+\"' in labels(n2) \"\n",
        "            \"CREATE (n1)-[r1:Relation \" + \"{name: '\"+rel_name+\"', usecase: '\"+usecaseid+\"'} ]->(n2) \"\n",
        "            \"RETURN n1, r1, n2\"\n",
        "            )\n",
        "            result = tx.run(query)\n",
        "            try:\n",
        "                return [{\"n1name\": row[\"n1\"][\"name\"],\n",
        "                        \"r1name\": row[\"r1\"][\"name\"],\n",
        "                        \"n2name\": row[\"n2\"][\"name\"],\n",
        "                        \"r1usecase\": row[\"r1\"][\"usecase\"]}\n",
        "                        for row in result]\n",
        "            # Capture any errors along with the query and data for traceability\n",
        "            except ServiceUnavailable as exception:\n",
        "                logging.error(\"{query} raised an error: \\n {exception}\".format(\n",
        "                    query=query, exception=exception))\n",
        "                raise\n",
        "\n",
        "    #Vishnu: 1 Aug 2022: Deprecated: This approach uses properties instead of labels for n.usecases.\n",
        "    #Vishnu: 1 Aug 2022: Invariant: only 1 actor with 1 name.\n",
        "    #Vishnu: 22 Jun 2022: refactored, uses properties instead of labels\n",
        "    #Vishnu: 1 Jun 2022: created this f() to create nodes with usecase label\n",
        "    #Vishnu: 2 Jun 2022: added- check if it already exists.\n",
        "    #Vishnu: 2 Jun 2022: added- check the usecase duplication, adds a usecase if it doesnt exist.\n",
        "    #otherwise ignores the command.\n",
        "    def create_node_with_usecase(self, actor_name, usecase_id):\n",
        "        with self.driver.session() as session:\n",
        "            node_already_exists = session.read_transaction(\n",
        "                self._find_and_return_existing_node, actor_name)\n",
        "            if not node_already_exists:\n",
        "                result = session.write_transaction(\n",
        "                    self._create_and_return_node, actor_name, usecase_id)\n",
        "                for row in result:\n",
        "                    print(\"Created node: {n1}\".format(n1=row['n1name']))\n",
        "            else:\n",
        "                for row in node_already_exists:\n",
        "                    print(\"Node already exists: {name} in {usecase}\".format(name=row['n1name'],\n",
        "                                                                 usecase=row['n1usecase']))\n",
        "                    s=row['n1usecase'].split(',')\n",
        "                    if not (usecase_id in s):\n",
        "                      print(\"adding prop \"+usecase_id+ \" in addition to \"+row['n1usecase'])\n",
        "                      result = session.write_transaction(\n",
        "                                self._add_usecase_and_return_existing_node, actor_name, usecase_id)\n",
        "                    else:\n",
        "                      print(\"ignoring ...\")\n",
        "                    #row has only 1 entry due to invariant. So break here. and exit f()\n",
        "                    break\n",
        "\n",
        "    #Vishnu: 1 Aug 2022: Deprecated: This approach uses properties instead of labels for usecases.\n",
        "    #Vishnu: 2 Jun 2022: created this f() to query nodes and return with usecase prop\n",
        "    @staticmethod\n",
        "    def _find_and_return_existing_node(tx, actor_name):\n",
        "        query = (\n",
        "            \"MATCH (n1) \"\n",
        "            \"WHERE (n1.name ='\" + actor_name + \"') \"\n",
        "            \"RETURN n1.name as n1name, n1.usecase as n1usecase\"\n",
        "        )\n",
        "        result = tx.run(query)\n",
        "        try:\n",
        "            return [{\"n1name\": row[\"n1name\"],\"n1usecase\": row[\"n1usecase\"]}\n",
        "                    for row in result]\n",
        "        # Capture any errors along with the query and data for traceability\n",
        "        except ServiceUnavailable as exception:\n",
        "            logging.error(\"{query} raised an error: \\n {exception}\".format(\n",
        "                query=query, exception=exception))\n",
        "            raise\n",
        "\n",
        "    #Vishnu: 1 Aug 2022: Deprecated: This approach uses properties instead of labels for usecases.\n",
        "    @staticmethod\n",
        "    def _create_and_return_node(tx, actor_name, usecase_id):\n",
        "            query = (\n",
        "            \"CREATE (n1 \"+\"{ name: '\"+actor_name+\"', usecase: '\"+usecase_id+\"'}) \"\n",
        "            \"RETURN n1\"\n",
        "            )\n",
        "            result = tx.run(query, actor_name=actor_name)\n",
        "            try:\n",
        "                return [{\"n1name\": row[\"n1\"][\"name\"]}\n",
        "                        for row in result]\n",
        "            # Capture any errors along with the query and data for traceability\n",
        "            except ServiceUnavailable as exception:\n",
        "                logging.error(\"{query} raised an error: \\n {exception}\".format(\n",
        "                    query=query, exception=exception))\n",
        "                raise\n",
        "\n",
        "    #Vishnu: 1 Aug 2022: Deprecated: This approach uses properties instead of labels for usecases.\n",
        "    #Vishnu: 1 Jun 2022: created this f() to add use case prop to existing nodes\n",
        "    #CAUTION: does not check for duplication, use create_node_with_prop instead.\n",
        "    def add_usecase_existing_node(self, actor_name, usecase_id):\n",
        "        with self.driver.session() as session:\n",
        "            # Write transactions allow the driver to handle retries and transient errors\n",
        "            result = session.write_transaction(\n",
        "                self._add_usecase_and_return_existing_node, actor_name, usecase_id)\n",
        "\n",
        "            # we expect only 1 node. Do we need the for loop below?\n",
        "            for row in result:\n",
        "                print(\"added usecase to node: {n1}\".format(n1=row['n1']))\n",
        "\n",
        "    #Vishnu: 1 Aug 2022: Deprecated: This approach uses properties instead of labels for usecases.\n",
        "    @staticmethod\n",
        "    def _add_usecase_and_return_existing_node(tx, actor_name, usecase_id):\n",
        "        # To learn more about the Cypher syntax, see https://neo4j.com/docs/cypher-manual/current/\n",
        "        # The Reference Card is also a good resource for keywords https://neo4j.com/docs/cypher-refcard/current/\n",
        "        query = (\n",
        "            \"MATCH \"\n",
        "            \"(n1) \"\n",
        "            \"WHERE n1.name = '\" + actor_name +\"' \"\n",
        "            \"set n1.usecase = n1.usecase + '\" + \",\" + \"'\"+ \"+ '\"+usecase_id +\"' \"\n",
        "            \"return n1\"\n",
        "        )\n",
        "        result = tx.run(query, actor_name=actor_name)\n",
        "        try:\n",
        "            return [{\"n1\": row[\"n1\"][\"name\"]}\n",
        "                    for row in result]\n",
        "        # Capture any errors along with the query and data for traceability\n",
        "        except ServiceUnavailable as exception:\n",
        "            logging.error(\"{query} raised an error: \\n {exception}\".format(\n",
        "                query=query, exception=exception))\n",
        "            raise\n",
        "\n",
        "    #Vishnu: 1 Aug 2022: Deprecated: This approach uses properties instead of labels for usecases.\n",
        "    #CAUTION: Assumes that actors already exists with property as n.use case.\n",
        "    #So, this has to be called only in conjunction with create_node_with_usecase\n",
        "    #otherwise you may end up with actors not having use case prop\n",
        "    #but rels will have use case prop. not a good idea.\n",
        "    def create_rel_with_usecase(self, actor1_name, rel_name, actor2_name, usecase_id):\n",
        "        with self.driver.session() as session:\n",
        "            this_rel_already_exists = session.read_transaction(\n",
        "                self._find_and_return_this_existing_rels, actor1_name, rel_name, actor2_name, usecase_id)\n",
        "            if (this_rel_already_exists):\n",
        "                print(rel_name + \" already exists with \"+ usecase_id + \" between \"+ actor1_name + \" and \"+ actor2_name)\n",
        "                return\n",
        "            else:\n",
        "                #we are pretty sure something didnt match\n",
        "                #this relation does not exist currently between the nodes under the use case,\n",
        "                #add it.\n",
        "                result3 = session.write_transaction(\n",
        "                    self._create_and_return_rel, actor1_name, rel_name, actor2_name, usecase_id)\n",
        "                #if (not retult3)\n",
        "                for row in result3:\n",
        "                    print(\"Created relation: {actor1} - {rel} - {actor2} in {usecase}\".\n",
        "                            format(actor1=row['n1name'],\n",
        "                            rel=row['r1name'],\n",
        "                            actor2=row['n2name'],\n",
        "                            usecase=row['r1usecase']))\n",
        "\n",
        "    #Vishnu: 1 Aug 2022: at this moment this f() uses labels instead of properties for n.usecases.\n",
        "    #                    Note that rels still uses properties.\n",
        "    #        1 Aug 2022: TBD: create a property-version (as against label) of the same thing.\n",
        "    #Vishnu: 21 Jun 2022: created this f() to create relationships with usecase label\n",
        "    #if this works, this is the only function that needed to be called.\n",
        "    def create_actors_relationship_with_usecase(self, actor1_name, rel_name, actor2_name, usecase_id):\n",
        "            #process actor1\n",
        "            self.create_node_with_usecase_label(actor1_name, usecase_id)\n",
        "            #process actor2\n",
        "            self.create_node_with_usecase_label(actor2_name, usecase_id)\n",
        "            #process relation\n",
        "            self.create_rel_with_usecase_label(actor1_name, rel_name, actor2_name, usecase_id)\n",
        "\n",
        "    #Vishnu: 23 June 2022: created\n",
        "    #looks for a rel under a use case between 2 given nodes.\n",
        "    #normally, we expect only 0 or 1 unique entry.\n",
        "    @staticmethod\n",
        "    def _find_and_return_this_existing_rels(tx, actor1_name, rel_name, actor2_name, usecase_id):\n",
        "        query = (\n",
        "            \"MATCH (n1)-[r1]-(n2) \"\n",
        "            \"WHERE (n1.name ='\" + actor1_name + \"') \"\n",
        "            \"and   (n2.name ='\" + actor2_name + \"') \"\n",
        "            \"and   (r1.usecase CONTAINS '\"+ usecase_id+ \"') \"\n",
        "            \"and   (r1.name ='\" + rel_name + \"') \"\n",
        "            \"RETURN n1.name as n1name, r1.name as r1name, n2.name as n2name, r1.usecase as r1usecase\"\n",
        "        )\n",
        "        result = tx.run(query)\n",
        "        return [row[\"r1name\"] for row in result]\n",
        "\n",
        "\n",
        "    #Vishnu: 21 June 2022: created this supporting f()\n",
        "    #return for all relationship between given two nodes.\n",
        "    @staticmethod\n",
        "    def _find_and_return_all_existing_rels_for_uc(tx, actor1_name, actor2_name, usecase_id):\n",
        "        query = (\n",
        "            \"MATCH (n1)-[r1]-(n2) \"\n",
        "            \"WHERE (n1.name ='\" + actor1_name + \"') \"\n",
        "            \"and   (n2.name ='\" + actor2_name + \"') \"\n",
        "            \"and   (r1.usecase CONTAINS '\"+ usecase_id+ \"') \"\n",
        "            \"RETURN n1.name as n1name, r1.name as r1name, n2.name as n2name, r1.usecase as r1usecase\"\n",
        "        )\n",
        "        result = tx.run(query)\n",
        "        try:\n",
        "            return [{\n",
        "                        \"n1name\": row[\"n1name\"],\n",
        "                        \"n2name\": row[\"n2name\"],\n",
        "                        \"r1name\": row[\"r1name\"],\n",
        "                        \"r1usecase\": row[\"r1usecase\"],\n",
        "                    }\n",
        "                    for row in result]\n",
        "        # Capture any errors along with the query and data for traceability\n",
        "        except ServiceUnavailable as exception:\n",
        "            logging.error(\"{query} raised an error: \\n {exception}\".format(\n",
        "                query=query, exception=exception))\n",
        "            raise\n",
        "\n",
        "    #Vishnu: 21 June 2022: created this supporting f()\n",
        "    #adds a name for an existing relationship between given two nodes.\n",
        "    @staticmethod\n",
        "    def _add_usecase_and_return_existing_rel(tx, actor1_name, rel_name, actor2_name, usecase_id):\n",
        "        query = (\n",
        "            \"MATCH (n1)-[r1]-(n2) \"\n",
        "            \"WHERE (n1.name ='\" + actor1_name + \"') \"\n",
        "            \"and   (n2.name ='\" + actor2_name + \"')\"\n",
        "            \"set    r1.usecase = r1.usecase + '\" + \",\" + \"'\"+ \"+ '\"+usecase_id +\"' \"\n",
        "        )\n",
        "        result = tx.run(query)\n",
        "\n",
        "\n",
        "    #Vishnu: 30 june 2022: created\n",
        "    #CAUTION: if the property already exists,\n",
        "    #this overwrites the current value.\n",
        "    @staticmethod\n",
        "    def _write_property_and_return_existing_node(tx, actor_name, propertyName, propertyVal):\n",
        "        query = (\n",
        "            \"MATCH \"\n",
        "            \"(n1) \"\n",
        "            \"WHERE n1.name = '\" + actor_name +\"' \"\n",
        "            \"set n1.\"+propertyName+\" = '\"+propertyVal +\"' \"\n",
        "            \"return n1\"\n",
        "        )\n",
        "        result = tx.run(query, actor_name=actor_name)\n",
        "        try:\n",
        "            return [{\"n1\": row[\"n1\"][\"name\"]}\n",
        "                    for row in result]\n",
        "        # Capture any errors along with the query and data for traceability\n",
        "        except ServiceUnavailable as exception:\n",
        "            logging.error(\"{query} raised an error: \\n {exception}\".format(\n",
        "                query=query, exception=exception))\n",
        "            raise\n",
        "\n",
        "    #Vishnu: 30 june 2022: created\n",
        "    #CAUTION: if the property already exists,\n",
        "    #this overwrites the current value.\n",
        "    @staticmethod\n",
        "    def _write_property_and_return_existing_rel(tx, actor1_name, rel_name, actor2_name,\n",
        "                                                propertyName, propertyVal):\n",
        "        query = (\n",
        "            \"MATCH (n1)-[r1]-(n2) \"\n",
        "            \"WHERE (n1.name ='\" + actor1_name + \"') \"\n",
        "            \"and   (n2.name ='\" + actor2_name + \"') \"\n",
        "            \"and   (r1.name ='\" + rel_name + \"') \"\n",
        "            \"set   r1.\"+propertyName+\" = '\"+propertyVal +\"' \"\n",
        "            \"return r1\"\n",
        "        )\n",
        "        result = tx.run(query)\n",
        "        try:\n",
        "            return [{\"r1\": row[\"r1\"][\"name\"]}\n",
        "                    for row in result]\n",
        "        # Capture any errors along with the query and data for traceability\n",
        "        except ServiceUnavailable as exception:\n",
        "            logging.error(\"{query} raised an error: \\n {exception}\".format(\n",
        "                query=query, exception=exception))\n",
        "            raise\n",
        "\n",
        "    #Vishnu: 22 June 2022: created\n",
        "    #assumption: nodes already exist\n",
        "    @staticmethod\n",
        "    def _create_and_return_rel(tx, actor1_name, rel_name, actor2_name, usecaseid):\n",
        "            query = (\n",
        "            \"MATCH \"\n",
        "            \"(n1), \"\n",
        "            \"(n2) \"\n",
        "            \"WHERE n1.name = '\" + actor1_name + \"' AND n2.name = '\"+actor2_name+\"' \"\n",
        "            \" AND n1.usecase CONTAINS '\"+ usecaseid+\"' \"\n",
        "            \" AND n2.usecase CONTAINS '\"+ usecaseid+\"' \"\n",
        "            \"CREATE (n1)-[r1:Relation \" + \"{name: '\"+rel_name+\"', usecase: '\"+usecaseid+\"'} ]->(n2) \"\n",
        "            \"RETURN n1, r1, n2\"\n",
        "            )\n",
        "            result = tx.run(query)\n",
        "            try:\n",
        "                return [{\"n1name\": row[\"n1\"][\"name\"],\n",
        "                        \"r1name\": row[\"r1\"][\"name\"],\n",
        "                        \"n2name\": row[\"n2\"][\"name\"],\n",
        "                        \"r1usecase\": row[\"r1\"][\"usecase\"]}\n",
        "                        for row in result]\n",
        "            # Capture any errors along with the query and data for traceability\n",
        "            except ServiceUnavailable as exception:\n",
        "                logging.error(\"{query} raised an error: \\n {exception}\".format(\n",
        "                    query=query, exception=exception))\n",
        "                raise\n",
        "\n",
        "    #Vishnu: 1 Jun 2022: created this f() to list all nodes with usecase label\n",
        "    def find_all_usecase_actors(self, usecase_id):\n",
        "        with self.driver.session() as session:\n",
        "            result = session.read_transaction(self._find_and_return_all_usecase_actors, usecase_id)\n",
        "            i=0\n",
        "            for row in result:\n",
        "                i=i+1\n",
        "                print(\"Found actor-\"+ str(i) +\": {row}\".format(row=row))\n",
        "\n",
        "    @staticmethod\n",
        "    def _find_and_return_all_usecase_actors(tx, usecase_id):\n",
        "        query = (\n",
        "            \"MATCH (n) \"\n",
        "            \"WHERE (n.usecase = '\"+usecase_id+\"') \"\n",
        "            \"RETURN n.name AS name\"\n",
        "        )\n",
        "        result = tx.run(query)\n",
        "        return [row[\"name\"] for row in result]\n",
        "\n",
        "    #Vishnu: 21 Jun 2022: created this f() to cleanup the DB\n",
        "    #CAUTION: will delete everything\n",
        "    def cleanup_db(self):\n",
        "        with self.driver.session() as session:\n",
        "            result = session.read_transaction(\n",
        "                self._count_nodes_in_db)\n",
        "            for row in result:\n",
        "                print(\"Found {row} actors, deleting! \".format(row=row['count']))\n",
        "            result = session.write_transaction(\n",
        "                self._cleanup_db)\n",
        "\n",
        "    @staticmethod\n",
        "    def _count_nodes_in_db(tx):\n",
        "        query = (\n",
        "            \"MATCH (n) \"\n",
        "            \"return count(n) as count\"\n",
        "        )\n",
        "        result = tx.run(query)\n",
        "        try:\n",
        "            return [{\"count\": row[\"count\"]}\n",
        "                    for row in result]\n",
        "        # Capture any errors along with the query and data for traceability\n",
        "        except ServiceUnavailable as exception:\n",
        "            logging.error(\"{query} raised an error: \\n {exception}\".format(\n",
        "                query=query, exception=exception))\n",
        "            raise\n",
        "\n",
        "    #Vishnu: 22 June 2022: created this f()\n",
        "    #(over)writes a prop to a node\n",
        "    def writePropToNode(self, actor_name, propertyName, propertyVal):\n",
        "        with self.driver.session() as session:\n",
        "            result = session.write_transaction(\n",
        "                self._write_property_and_return_existing_node,\n",
        "                    actor_name,\n",
        "                    propertyName,\n",
        "                    propertyVal)\n",
        "\n",
        "            # we expect only 1 node. Do we need the for loop below?\n",
        "            for row in result:\n",
        "                print(\"added prop \"+\n",
        "                        propertyName+\n",
        "                        \" = \"+\n",
        "                        propertyVal+\n",
        "                        \" to node: {n1}\".format(n1=row['n1']))\n",
        "\n",
        "    #Vishnu: 22 June 2022: created this f()\n",
        "    #(over)writes a prop to a rel\n",
        "    def writePropToRel(self, a1, rel_name, a2, propertyName, propertyVal):\n",
        "        with self.driver.session() as session:\n",
        "            result = session.write_transaction(\n",
        "                self._write_property_and_return_existing_rel,\n",
        "                    a1, rel_name, a2,\n",
        "                    propertyName,\n",
        "                    propertyVal)\n",
        "\n",
        "            # we expect only 1 node. Do we need the for loop below?\n",
        "            for row in result:\n",
        "                print(\"added prop \"+\n",
        "                        propertyName+\n",
        "                        \" = \"+\n",
        "                        propertyVal+\n",
        "                        \" to rel: {r1}\".format(r1=row['r1']))\n",
        "\n",
        "    @staticmethod\n",
        "    def _cleanup_db(tx):\n",
        "        query = (\n",
        "            \"MATCH (n) \"\n",
        "            \"detach delete n\"\n",
        "        )\n",
        "        result = tx.run(query)\n",
        "        try:\n",
        "            return\n",
        "        # Capture any errors along with the query and data for traceability\n",
        "        except ServiceUnavailable as exception:\n",
        "            logging.error(\"{query} raised an error: \\n {exception}\".format(\n",
        "                query=query, exception=exception))\n",
        "            raise\n",
        "\n",
        "    #Vishnu: 29 Aug 2022\n",
        "    #https://github.com/vrra/FGAN-Build-a-thon-2022/issues/52\n",
        "    def del_node_in_db(self, node_name):\n",
        "        with self.driver.session() as session:\n",
        "            node_already_exists = session.read_transaction(\n",
        "                self._find_and_return_existing_node_label, node_name)\n",
        "            if not node_already_exists:\n",
        "                print(f\"\\\"{node_name}\\\" does not exist! \")\n",
        "            result = session.write_transaction(\n",
        "                self._del_node_in_db, node_name)\n",
        "            for row in result:\n",
        "                    print(\"Deleted node: {n1}\".format(n1=row['name']))\n",
        "\n",
        "    #Vishnu: 29 Aug 2022\n",
        "    #https://github.com/vrra/FGAN-Build-a-thon-2022/issues/52\n",
        "    @staticmethod\n",
        "    def _del_node_in_db(tx, actor1_name):\n",
        "        query = (\n",
        "            \"MATCH (n) \"\n",
        "            \"WHERE (n.name = '\"+actor1_name+\"') \"\n",
        "            \"with n, n.name as name \"\n",
        "            \"detach delete n \"\n",
        "            \"return name\"\n",
        "        )\n",
        "        result = tx.run(query)\n",
        "        try:\n",
        "            return [{\"name\": row[\"name\"]}\n",
        "                    for row in result]\n",
        "        # Capture any errors along with the query and data for traceability\n",
        "        except ServiceUnavailable as exception:\n",
        "            logging.error(\"{query} raised an error: \\n {exception}\".format(\n",
        "                query=query, exception=exception))\n",
        "            raise\n",
        "\n",
        "    # Created this f() to return each actors relationship name\n",
        "    @staticmethod\n",
        "    def _find_and_return_all_usecase_actors_relationship_name(tx, actor):\n",
        "        query = (\n",
        "            \"MATCH ({name: '\"+actor+\"'})-[r]->(o) RETURN r.name, o.name\"\n",
        "        )\n",
        "        result = tx.run(query)\n",
        "        return [row.values() for row in result]\n",
        "\n",
        "    # Created this f() to list all actors relationship name\n",
        "    def find_actor_relationship_name(self, actor):\n",
        "        with self.driver.session() as session:\n",
        "            return session.read_transaction(self._find_and_return_all_usecase_actors_relationship_name, actor)"
      ],
      "metadata": {
        "id": "QkF8MoQujQg6"
      },
      "execution_count": null,
      "outputs": [],
      "id": "QkF8MoQujQg6"
    },
    {
      "cell_type": "code",
      "source": [
        "app = App(uri, user, password)"
      ],
      "metadata": {
        "id": "EOy6ZHXYqoFY"
      },
      "execution_count": null,
      "outputs": [],
      "id": "EOy6ZHXYqoFY"
    },
    {
      "cell_type": "code",
      "source": [
        "for word in nouns:\n",
        "  app.create_node_with_usecase_label(word[0], 'usecase001')"
      ],
      "metadata": {
        "id": "ndJOLLupqs6V"
      },
      "execution_count": null,
      "outputs": [],
      "id": "ndJOLLupqs6V"
    }
  ],
  "metadata": {
    "kernelspec": {
      "display_name": "Python 3 (ipykernel)",
      "language": "python",
      "name": "python3"
    },
    "language_info": {
      "codemirror_mode": {
        "name": "ipython",
        "version": 3
      },
      "file_extension": ".py",
      "mimetype": "text/x-python",
      "name": "python",
      "nbconvert_exporter": "python",
      "pygments_lexer": "ipython3",
      "version": "3.10.9"
    },
    "colab": {
      "provenance": [],
      "include_colab_link": true
    }
  },
  "nbformat": 4,
  "nbformat_minor": 5
}