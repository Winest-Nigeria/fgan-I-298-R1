{
  "cells": [
    {
      "cell_type": "markdown",
      "metadata": {
        "id": "view-in-github",
        "colab_type": "text"
      },
      "source": [
        "<a href=\"https://colab.research.google.com/github/Winest-Nigeria/fgan-I-298-R1/blob/main/2023/Triplet.ipynb\" target=\"_parent\"><img src=\"https://colab.research.google.com/assets/colab-badge.svg\" alt=\"Open In Colab\"/></a>"
      ]
    },
    {
      "cell_type": "code",
      "source": [
        "!pip install pyPDF2"
      ],
      "metadata": {
        "colab": {
          "base_uri": "https://localhost:8080/"
        },
        "id": "xkDtA5P9Wl30",
        "outputId": "7001422b-14e8-49f3-a539-8779275ead36"
      },
      "id": "xkDtA5P9Wl30",
      "execution_count": null,
      "outputs": [
        {
          "output_type": "stream",
          "name": "stdout",
          "text": [
            "Collecting pyPDF2\n",
            "  Downloading pypdf2-3.0.1-py3-none-any.whl (232 kB)\n",
            "\u001b[?25l     \u001b[90m━━━━━━━━━━━━━━━━━━━━━━━━━━━━━━━━━━━━━━━━\u001b[0m \u001b[32m0.0/232.6 kB\u001b[0m \u001b[31m?\u001b[0m eta \u001b[36m-:--:--\u001b[0m\r\u001b[2K     \u001b[91m━━━━━━━━━━━━━━━\u001b[0m\u001b[91m╸\u001b[0m\u001b[90m━━━━━━━━━━━━━━━━━━━━━━━━\u001b[0m \u001b[32m92.2/232.6 kB\u001b[0m \u001b[31m2.7 MB/s\u001b[0m eta \u001b[36m0:00:01\u001b[0m\r\u001b[2K     \u001b[90m━━━━━━━━━━━━━━━━━━━━━━━━━━━━━━━━━━━━━━━\u001b[0m \u001b[32m232.6/232.6 kB\u001b[0m \u001b[31m4.3 MB/s\u001b[0m eta \u001b[36m0:00:00\u001b[0m\n",
            "\u001b[?25hInstalling collected packages: pyPDF2\n",
            "Successfully installed pyPDF2-3.0.1\n"
          ]
        }
      ]
    },
    {
      "cell_type": "code",
      "execution_count": null,
      "id": "72467097",
      "metadata": {
        "id": "72467097"
      },
      "outputs": [],
      "source": [
        "import PyPDF2 as pdf\n",
        "import re"
      ]
    },
    {
      "cell_type": "code",
      "source": [
        "# Path to your PDF file\n",
        "pdf_file_path = '/content/sample_data/test_usecase_document.pdf'"
      ],
      "metadata": {
        "id": "r7NSy-bGVPYy"
      },
      "id": "r7NSy-bGVPYy",
      "execution_count": null,
      "outputs": []
    },
    {
      "cell_type": "code",
      "execution_count": null,
      "id": "6ecd660d",
      "metadata": {
        "id": "6ecd660d"
      },
      "outputs": [],
      "source": [
        "# Open the PDF file\n",
        "with open(pdf_file_path, 'rb') as pdf_file:\n",
        "  # Create a PDF reader object\n",
        "  pdf_reader = pdf.PdfReader(pdf_file)\n",
        "\n",
        "  # Initialize an empty string to store the extracted text\n",
        "  pdf_text = ''\n",
        "\n",
        "  # Iterate through each page and extract text\n",
        "  for page_num in range(len(pdf_reader.pages)):\n",
        "      page = pdf_reader.pages[page_num]\n",
        "      pdf_text += page.extract_text()\n"
      ]
    },
    {
      "cell_type": "code",
      "execution_count": null,
      "id": "a9098697",
      "metadata": {
        "id": "a9098697"
      },
      "outputs": [],
      "source": [
        "pdf_text"
      ]
    },
    {
      "cell_type": "code",
      "source": [
        "# Define the patterns to find the start and end of the desired text\n",
        "start_pattern = r'Actors involved \\(Figure 3\\):'\n",
        "end_pattern = r'Possible key components involved \\(Figure 4\\):'\n",
        "\n",
        "start_match = re.search(start_pattern, pdf_text)\n",
        "end_match = re.search(end_pattern, pdf_text)"
      ],
      "metadata": {
        "id": "evTHfmpLa5_M"
      },
      "id": "evTHfmpLa5_M",
      "execution_count": null,
      "outputs": []
    },
    {
      "cell_type": "code",
      "source": [
        "if start_match and end_match:\n",
        "    # Extract the text between the start and end positions\n",
        "    extracted_text = pdf_text[start_match.end():end_match.start()]\n",
        "    # Remove all whitespace\n",
        "    extracted_text = extracted_text.strip()\n",
        "\n",
        "    print(extracted_text)\n",
        "else:\n",
        "    print(\"Section not found in the large_text.\")"
      ],
      "metadata": {
        "colab": {
          "base_uri": "https://localhost:8080/"
        },
        "id": "Q63C2oONbJKy",
        "outputId": "c6ae145b-293d-4487-c9f4-79f2ff070738"
      },
      "id": "Q63C2oONbJKy",
      "execution_count": null,
      "outputs": [
        {
          "output_type": "stream",
          "name": "stdout",
          "text": [
            "• AN sandbox: this actor provides an experimentation platform for controllers. This allows \n",
            "testing and verification of c ontrollers. This may be implemented in the form of an openly \n",
            "accessible sandbox.  \n",
            "• Knowledge base: this actor stores knowledge which may be queried, stored and updated by \n",
            "various AN components. This may be implemented in the form of an open knowledge base.\n"
          ]
        }
      ]
    },
    {
      "cell_type": "code",
      "execution_count": null,
      "id": "4feb583c",
      "metadata": {
        "id": "4feb583c"
      },
      "outputs": [],
      "source": [
        "text=pdf_text.split() #split pdf_text to list of strings using space"
      ]
    }
  ],
  "metadata": {
    "kernelspec": {
      "display_name": "Python 3 (ipykernel)",
      "language": "python",
      "name": "python3"
    },
    "language_info": {
      "codemirror_mode": {
        "name": "ipython",
        "version": 3
      },
      "file_extension": ".py",
      "mimetype": "text/x-python",
      "name": "python",
      "nbconvert_exporter": "python",
      "pygments_lexer": "ipython3",
      "version": "3.10.9"
    },
    "colab": {
      "provenance": [],
      "include_colab_link": true
    }
  },
  "nbformat": 4,
  "nbformat_minor": 5
}