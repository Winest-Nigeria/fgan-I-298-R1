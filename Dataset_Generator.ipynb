{
  "nbformat": 4,
  "nbformat_minor": 0,
  "metadata": {
    "colab": {
      "provenance": [],
      "authorship_tag": "ABX9TyPXt/YKZ1cz0vYUMFBIAEMZ",
      "include_colab_link": true
    },
    "kernelspec": {
      "name": "python3",
      "display_name": "Python 3"
    },
    "language_info": {
      "name": "python"
    }
  },
  "cells": [
    {
      "cell_type": "markdown",
      "metadata": {
        "id": "view-in-github",
        "colab_type": "text"
      },
      "source": [
        "<a href=\"https://colab.research.google.com/github/Winest-Nigeria/fgan-I-298-R1/blob/main/Dataset_Generator.ipynb\" target=\"_parent\"><img src=\"https://colab.research.google.com/assets/colab-badge.svg\" alt=\"Open In Colab\"/></a>"
      ]
    },
    {
      "cell_type": "code",
      "execution_count": null,
      "metadata": {
        "colab": {
          "base_uri": "https://localhost:8080/"
        },
        "id": "ZBlW6D2LnBhr",
        "outputId": "0eb44cfa-90a3-49d3-9d0f-06a15b355c71"
      },
      "outputs": [
        {
          "output_type": "stream",
          "name": "stdout",
          "text": [
            "Collecting pyPDF2\n",
            "  Downloading pypdf2-3.0.1-py3-none-any.whl (232 kB)\n",
            "\u001b[?25l     \u001b[90m━━━━━━━━━━━━━━━━━━━━━━━━━━━━━━━━━━━━━━━━\u001b[0m \u001b[32m0.0/232.6 kB\u001b[0m \u001b[31m?\u001b[0m eta \u001b[36m-:--:--\u001b[0m\r\u001b[2K     \u001b[91m━━━━━━━━━━━━━━━━━━━━━━━━\u001b[0m\u001b[91m╸\u001b[0m\u001b[90m━━━━━━━━━━━━━━━\u001b[0m \u001b[32m143.4/232.6 kB\u001b[0m \u001b[31m4.1 MB/s\u001b[0m eta \u001b[36m0:00:01\u001b[0m\r\u001b[2K     \u001b[90m━━━━━━━━━━━━━━━━━━━━━━━━━━━━━━━━━━━━━━━━\u001b[0m \u001b[32m232.6/232.6 kB\u001b[0m \u001b[31m5.0 MB/s\u001b[0m eta \u001b[36m0:00:00\u001b[0m\n",
            "\u001b[?25hInstalling collected packages: pyPDF2\n",
            "Successfully installed pyPDF2-3.0.1\n"
          ]
        }
      ],
      "source": [
        "import pandas as pd\n",
        "!pip install pyPDF2"
      ]
    },
    {
      "cell_type": "code",
      "source": [
        "import PyPDF2 as pdf"
      ],
      "metadata": {
        "id": "nGJxAxurndXL"
      },
      "execution_count": null,
      "outputs": []
    },
    {
      "cell_type": "code",
      "source": [
        "# Path to your PDF file\n",
        "pdf_file_path = '/content/sample_data/T-REC-Y.Sup71-202207-I!!PDF-E.pdf'\n",
        "# Open the PDF file\n",
        "with open(pdf_file_path, 'rb') as pdf_file:\n",
        "  # Create a PDF reader object\n",
        "  pdf_reader = pdf.PdfReader(pdf_file)\n",
        "\n",
        "  # Initialize an empty string to store the extracted text\n",
        "  pdf_text = ''\n",
        "\n",
        "  # Iterate through each page and extract text\n",
        "  for page_num in range(len(pdf_reader.pages)):\n",
        "      page = pdf_reader.pages[page_num]\n",
        "      pdf_text += page.extract_text()"
      ],
      "metadata": {
        "id": "qWtAVECfohQj"
      },
      "execution_count": null,
      "outputs": []
    },
    {
      "cell_type": "code",
      "source": [
        "token=pdf_text"
      ],
      "metadata": {
        "id": "X_fuRz1RpV7F"
      },
      "execution_count": null,
      "outputs": []
    },
    {
      "cell_type": "code",
      "source": [
        "token[:30]"
      ],
      "metadata": {
        "colab": {
          "base_uri": "https://localhost:8080/",
          "height": 35
        },
        "id": "K77_V0k9ph-T",
        "outputId": "ef354712-6f50-4e84-c637-7988ac5fe6a7"
      },
      "execution_count": null,
      "outputs": [
        {
          "output_type": "execute_result",
          "data": {
            "text/plain": [
              "' \\n \\n  \\nI n t e r n a t i o n a'"
            ],
            "application/vnd.google.colaboratory.intrinsic+json": {
              "type": "string"
            }
          },
          "metadata": {},
          "execution_count": 6
        }
      ]
    },
    {
      "cell_type": "code",
      "source": [
        "#import nltk library and download necessary files\n",
        "import nltk\n",
        "from nltk import word_tokenize, pos_tag, sent_tokenize\n",
        "nltk.download('punkt')\n",
        "nltk.download('averaged_perceptron_tagger')\n",
        "#nltk.download('stopwords')"
      ],
      "metadata": {
        "colab": {
          "base_uri": "https://localhost:8080/"
        },
        "id": "IEpvwAorpnft",
        "outputId": "9fcf156a-c6b9-49e0-812a-2115b812d1b6"
      },
      "execution_count": null,
      "outputs": [
        {
          "output_type": "stream",
          "name": "stderr",
          "text": [
            "[nltk_data] Downloading package punkt to /root/nltk_data...\n",
            "[nltk_data]   Unzipping tokenizers/punkt.zip.\n",
            "[nltk_data] Downloading package averaged_perceptron_tagger to\n",
            "[nltk_data]     /root/nltk_data...\n",
            "[nltk_data]   Unzipping taggers/averaged_perceptron_tagger.zip.\n"
          ]
        },
        {
          "output_type": "execute_result",
          "data": {
            "text/plain": [
              "True"
            ]
          },
          "metadata": {},
          "execution_count": 7
        }
      ]
    },
    {
      "cell_type": "code",
      "source": [
        "#Tokenize the pdf text into words\n",
        "sentence_tokens = sent_tokenize(token)\n",
        "word_tokens = word_tokenize(token)"
      ],
      "metadata": {
        "id": "Fxrtcjrgp8Qw"
      },
      "execution_count": null,
      "outputs": []
    },
    {
      "cell_type": "code",
      "source": [
        "sentence_tokens[:10]"
      ],
      "metadata": {
        "colab": {
          "base_uri": "https://localhost:8080/"
        },
        "id": "CDKkqCFAqvBO",
        "outputId": "100284aa-2052-48b5-965e-40343f2febe3"
      },
      "execution_count": null,
      "outputs": [
        {
          "output_type": "execute_result",
          "data": {
            "text/plain": [
              "[' \\n \\n  \\nI n t e r n a t i o n a l  T e l e c o m m u n i c a t i o n  U n i o n  \\n  \\nITU-T  Series  Y \\nTELECOMMUNICATION  \\nSTANDARDIZATION SECTOR  \\nOF ITU  Supplement  71 \\n(07/2022)  \\n \\nSERIES Y: GLOBAL INFORMATION \\nINFRASTRUCTURE, INTERNET PROTOCOL ASPECTS, \\nNEXT -GENERATION NETWORKS, INTERNET OF \\nTHINGS AND SMART CITIES  \\n \\n ITU-T Y.3000 series – Use cases for autonomous \\nnetworks  \\n \\nITU-T  Y-series Recommendations   –  Supplement  71 \\n \\n \\n \\nITU-T Y-SERIES RECOMMENDATIONS  \\nGLOBAL INFORMATION INFRASTRUCTURE, INTERNET PROTOCOL ASPECTS, NEXT -GENERATION \\nNETWORKS, INTERNET OF THINGS AND SMART CITIES  \\n  \\nGLOBAL INFORMATION INFRASTRUCTURE   \\nGeneral  Y.100–Y.199  \\nServices, applications and middleware  Y.200–Y.299  \\nNetwork aspects  Y.300–Y.399  \\nInterfaces and protocols  Y.400–Y.499  \\nNumbering, addressing and naming  Y.500–Y.599  \\nOperation, administration and maintenance  Y.600–Y.699  \\nSecurity  Y.700–Y.799  \\nPerformances  Y.800–Y.899  \\nINTERNET PROTOCOL ASPECTS   \\nGeneral  Y.1000–Y.1099  \\nServices and applications  Y.1100–Y.1199  \\nArchitecture, access, network capabilities and resource management  Y.1200–Y.1299  \\nTransport  Y.1300–Y.1399  \\nInterworking  Y.1400–Y.1499  \\nQuality of service and network performance  Y.1500–Y.1599  \\nSignalling  Y.1600–Y.1699  \\nOperation, administration and maintenance  Y.1700–Y.1799  \\nCharging  Y.1800–Y.1899  \\nIPTV over NGN  Y.1900–Y.1999  \\nNEXT GENERATION NETWORKS   \\nFrameworks and functional architecture models  Y.2000–Y.2099  \\nQuality of Service and performance  Y.2100–Y.2199  \\nService aspects: Service capabilities and service architecture  Y.2200–Y.2249  \\nService aspects: Interoperability of services and networks in NGN  Y.2250–Y.2299  \\nEnhancements to NGN  Y.2300–Y.2399  \\nNetwork management  Y.2400–Y.2499  \\nComputing power networks  Y.2500–Y.2599  \\nPacket -based Networks  Y.2600–Y.2699  \\nSecurity  Y.2700–Y.2799  \\nGeneralized mobility  Y.2800–Y.2899  \\nCarrier grade open environment  Y.2900–Y.2999  \\nFUTURE NETWORKS  Y.3000–Y.3499  \\nCLOUD COMPUTING  Y.3500–Y.3599  \\nBIG DATA  Y.3600–Y.3799  \\nQUANTUM KEY DISTRIBUTION NETWORKS  Y.3800–Y.3999  \\nINTERNET OF THINGS AND SMART CITIES AND COMMUNITIES   \\nGeneral  Y.4000–Y.4049  \\nDefinitions and terminologies  Y.4050–Y.4099  \\nRequirements and use cases  Y.4100–Y.4249  \\nInfrastructure, connectivity and networks  Y.4250–Y.4399  \\nFrameworks, architectures and protocols  Y.4400–Y.4549  \\nServices, applications, computation and data processing  Y.4550–Y.4699  \\nManagement, control and performance  Y.4700–Y.4799  \\nIdentification and security  Y.4800–Y.4899  \\nEvaluation and assessment  Y.4900–Y.4999  \\n  \\nFor further details, please refer to the list of ITU -T Recommendations.',\n",
              " 'Y series – Supplement  71 (07/2022)  i Supplement  71 to ITU -T Y-series Recommendations  \\nITU-T Y.3000 series – Use cases for autonomous networks  \\n \\n \\n \\nSummary  \\nSupplement  71 to ITU -T Y-series Recommendations  discusses use cases for autonomous networks.',\n",
              " 'The \\nuse cases are divided into two categories, and possible requirements, interactions among actors and \\npossible key components are also discussed.',\n",
              " 'Various use cases are derived according to the key concepts behind autonomous networks of exploratory \\nevolution, real -time responsive experimentation and dynamic adaptation to enable handling of hitherto \\nunseen changes in network scenarios or i nputs to reduce the human effort involved in managing the \\nnetwork.',\n",
              " 'History  \\nEdition  Recommendation  Approval  Study Group  Unique ID* \\n1.0 ITU-T Y Suppl.',\n",
              " '71  2022 -07-15 13 11.1002/1000/15041  \\n \\n \\n \\nKeywords  \\nActor, artificial intelligence, autonomous networks, component, controller, knowledge, machine \\nlearning, requirement, use case.',\n",
              " \"* To access  the Recommendation,  type the URL  http://handle.itu.int/  in the address  field of your web \\nbrowser,  followed  by the Recommendation 's unique  ID.\",\n",
              " 'For example,  http://handle.itu.int/11.1002/1000/11\\n830-en.',\n",
              " 'ii Y series – Supplement  71 (07/2022)  FOREWORD  \\nThe International Telecommunication Union (ITU) is the United Nations specialized agency in the field of \\ntelecommunications , information and communication technologies (ICTs).',\n",
              " 'The ITU Telecommunication \\nStandardization Sector (ITU -T) is a permanent organ of ITU.']"
            ]
          },
          "metadata": {},
          "execution_count": 15
        }
      ]
    },
    {
      "cell_type": "code",
      "source": [
        "#pos_tags = pos_tag(tokens)"
      ],
      "metadata": {
        "id": "yn5fyJoiqP-i"
      },
      "execution_count": null,
      "outputs": []
    },
    {
      "cell_type": "code",
      "source": [
        "pos_tag(sentence_tokens[0:3])"
      ],
      "metadata": {
        "colab": {
          "base_uri": "https://localhost:8080/"
        },
        "id": "-M22_QdSvsHp",
        "outputId": "0793e4ae-2d02-4223-eada-5c4451e3e62e"
      },
      "execution_count": null,
      "outputs": [
        {
          "output_type": "execute_result",
          "data": {
            "text/plain": [
              "[(' \\n \\n  \\nI n t e r n a t i o n a l  T e l e c o m m u n i c a t i o n  U n i o n  \\n  \\nITU-T  Series  Y \\nTELECOMMUNICATION  \\nSTANDARDIZATION SECTOR  \\nOF ITU  Supplement  71 \\n(07/2022)  \\n \\nSERIES Y: GLOBAL INFORMATION \\nINFRASTRUCTURE, INTERNET PROTOCOL ASPECTS, \\nNEXT -GENERATION NETWORKS, INTERNET OF \\nTHINGS AND SMART CITIES  \\n \\n ITU-T Y.3000 series – Use cases for autonomous \\nnetworks  \\n \\nITU-T  Y-series Recommendations   –  Supplement  71 \\n \\n \\n \\nITU-T Y-SERIES RECOMMENDATIONS  \\nGLOBAL INFORMATION INFRASTRUCTURE, INTERNET PROTOCOL ASPECTS, NEXT -GENERATION \\nNETWORKS, INTERNET OF THINGS AND SMART CITIES  \\n  \\nGLOBAL INFORMATION INFRASTRUCTURE   \\nGeneral  Y.100–Y.199  \\nServices, applications and middleware  Y.200–Y.299  \\nNetwork aspects  Y.300–Y.399  \\nInterfaces and protocols  Y.400–Y.499  \\nNumbering, addressing and naming  Y.500–Y.599  \\nOperation, administration and maintenance  Y.600–Y.699  \\nSecurity  Y.700–Y.799  \\nPerformances  Y.800–Y.899  \\nINTERNET PROTOCOL ASPECTS   \\nGeneral  Y.1000–Y.1099  \\nServices and applications  Y.1100–Y.1199  \\nArchitecture, access, network capabilities and resource management  Y.1200–Y.1299  \\nTransport  Y.1300–Y.1399  \\nInterworking  Y.1400–Y.1499  \\nQuality of service and network performance  Y.1500–Y.1599  \\nSignalling  Y.1600–Y.1699  \\nOperation, administration and maintenance  Y.1700–Y.1799  \\nCharging  Y.1800–Y.1899  \\nIPTV over NGN  Y.1900–Y.1999  \\nNEXT GENERATION NETWORKS   \\nFrameworks and functional architecture models  Y.2000–Y.2099  \\nQuality of Service and performance  Y.2100–Y.2199  \\nService aspects: Service capabilities and service architecture  Y.2200–Y.2249  \\nService aspects: Interoperability of services and networks in NGN  Y.2250–Y.2299  \\nEnhancements to NGN  Y.2300–Y.2399  \\nNetwork management  Y.2400–Y.2499  \\nComputing power networks  Y.2500–Y.2599  \\nPacket -based Networks  Y.2600–Y.2699  \\nSecurity  Y.2700–Y.2799  \\nGeneralized mobility  Y.2800–Y.2899  \\nCarrier grade open environment  Y.2900–Y.2999  \\nFUTURE NETWORKS  Y.3000–Y.3499  \\nCLOUD COMPUTING  Y.3500–Y.3599  \\nBIG DATA  Y.3600–Y.3799  \\nQUANTUM KEY DISTRIBUTION NETWORKS  Y.3800–Y.3999  \\nINTERNET OF THINGS AND SMART CITIES AND COMMUNITIES   \\nGeneral  Y.4000–Y.4049  \\nDefinitions and terminologies  Y.4050–Y.4099  \\nRequirements and use cases  Y.4100–Y.4249  \\nInfrastructure, connectivity and networks  Y.4250–Y.4399  \\nFrameworks, architectures and protocols  Y.4400–Y.4549  \\nServices, applications, computation and data processing  Y.4550–Y.4699  \\nManagement, control and performance  Y.4700–Y.4799  \\nIdentification and security  Y.4800–Y.4899  \\nEvaluation and assessment  Y.4900–Y.4999  \\n  \\nFor further details, please refer to the list of ITU -T Recommendations.',\n",
              "  'JJ'),\n",
              " ('Y series – Supplement  71 (07/2022)  i Supplement  71 to ITU -T Y-series Recommendations  \\nITU-T Y.3000 series – Use cases for autonomous networks  \\n \\n \\n \\nSummary  \\nSupplement  71 to ITU -T Y-series Recommendations  discusses use cases for autonomous networks.',\n",
              "  'NNP'),\n",
              " ('The \\nuse cases are divided into two categories, and possible requirements, interactions among actors and \\npossible key components are also discussed.',\n",
              "  'NNP')]"
            ]
          },
          "metadata": {},
          "execution_count": 20
        }
      ]
    },
    {
      "cell_type": "code",
      "source": [
        "token_list=[]\n",
        "pos_list=[]\n",
        "unique_postags= ['\"', \"''\", '#', '$', '(', ')', ',', '.', ':', '``', 'CC', 'CD', 'DT', 'EX', 'FW', 'IN', 'JJ', 'JJR', 'JJS', 'LS', 'MD', 'NN', 'NNP', 'NNPS', 'NNS', 'NN|SYM', 'PDT', 'POS', 'PRP', 'PRP$', 'RB', 'RBR', 'RBS', 'RP', 'SYM', 'TO', 'UH', 'VB', 'VBD', 'VBG', 'VBN', 'VBP', 'VBZ', 'WDT', 'WP', 'WP$', 'WRB']"
      ],
      "metadata": {
        "id": "svH1vjf8yUHT"
      },
      "execution_count": null,
      "outputs": []
    },
    {
      "cell_type": "code",
      "source": [
        "for sent in sentence_tokens:\n",
        "  wrd_tkn = word_tokenize(sent)\n",
        "  tags=pos_tag(wrd_tkn)\n",
        "  TOKENS=[]\n",
        "  POS=[]\n",
        "  for tag in tags:\n",
        "    TOKENS.append(tag[0])\n",
        "    POS.append(unique_postags.index(tag[1]))\n",
        "    #unique_postags\n",
        "    #POS.append(tag[1])\n",
        "  token_list.append(TOKENS)\n",
        "  pos_list.append(POS)\n"
      ],
      "metadata": {
        "id": "PGIME6YZvtja"
      },
      "execution_count": null,
      "outputs": []
    },
    {
      "cell_type": "code",
      "source": [
        "data={'tokens':token_list, 'pos':pos_list}"
      ],
      "metadata": {
        "id": "_7tAqC4J_QEP"
      },
      "execution_count": null,
      "outputs": []
    },
    {
      "cell_type": "code",
      "source": [
        "df=pd.DataFrame(data)"
      ],
      "metadata": {
        "id": "7pLnEdxz_cuK"
      },
      "execution_count": null,
      "outputs": []
    },
    {
      "cell_type": "code",
      "source": [
        "df.head(10)"
      ],
      "metadata": {
        "colab": {
          "base_uri": "https://localhost:8080/",
          "height": 363
        },
        "id": "FZGtNPQyARDM",
        "outputId": "85bff5df-5d57-4907-eb13-e31c67ab75b9"
      },
      "execution_count": null,
      "outputs": [
        {
          "output_type": "execute_result",
          "data": {
            "text/plain": [
              "                                              tokens  \\\n",
              "0  [I, n, t, e, r, n, a, t, i, o, n, a, l, T, e, ...   \n",
              "1  [Y, series, –, Supplement, 71, (, 07/2022, ), ...   \n",
              "2  [The, use, cases, are, divided, into, two, cat...   \n",
              "3  [Various, use, cases, are, derived, according,...   \n",
              "4  [History, Edition, Recommendation, Approval, S...   \n",
              "5  [71, 2022, -07-15, 13, 11.1002/1000/15041, Key...   \n",
              "6  [*, To, access, the, Recommendation, ,, type, ...   \n",
              "7  [For, example, ,, http, :, //handle.itu.int/11...   \n",
              "8  [ii, Y, series, –, Supplement, 71, (, 07/2022,...   \n",
              "9  [The, ITU, Telecommunication, Standardization,...   \n",
              "\n",
              "                                                 pos  \n",
              "0  [28, 41, 16, 21, 21, 15, 12, 21, 21, 41, 15, 1...  \n",
              "1  [22, 21, 22, 22, 11, 4, 11, 5, 21, 38, 11, 35,...  \n",
              "2  [12, 21, 24, 41, 40, 15, 11, 24, 6, 10, 16, 24...  \n",
              "3  [16, 21, 24, 41, 40, 39, 35, 12, 21, 24, 15, 1...  \n",
              "4  [22, 22, 22, 22, 22, 22, 22, 22, 38, 11, 16, 2...  \n",
              "5  [11, 11, 21, 11, 11, 24, 22, 6, 16, 21, 6, 16,...  \n",
              "6  [21, 35, 21, 12, 22, 6, 38, 12, 22, 21, 8, 21,...  \n",
              "7                      [15, 21, 6, 21, 8, 16, 11, 7]  \n",
              "8  [21, 22, 21, 22, 22, 11, 4, 11, 5, 38, 12, 22,...  \n",
              "9  [12, 22, 22, 22, 22, 4, 22, 22, 5, 42, 12, 16,...  "
            ],
            "text/html": [
              "\n",
              "  <div id=\"df-d281cd99-a7e7-4642-a1eb-ae4704f19555\" class=\"colab-df-container\">\n",
              "    <div>\n",
              "<style scoped>\n",
              "    .dataframe tbody tr th:only-of-type {\n",
              "        vertical-align: middle;\n",
              "    }\n",
              "\n",
              "    .dataframe tbody tr th {\n",
              "        vertical-align: top;\n",
              "    }\n",
              "\n",
              "    .dataframe thead th {\n",
              "        text-align: right;\n",
              "    }\n",
              "</style>\n",
              "<table border=\"1\" class=\"dataframe\">\n",
              "  <thead>\n",
              "    <tr style=\"text-align: right;\">\n",
              "      <th></th>\n",
              "      <th>tokens</th>\n",
              "      <th>pos</th>\n",
              "    </tr>\n",
              "  </thead>\n",
              "  <tbody>\n",
              "    <tr>\n",
              "      <th>0</th>\n",
              "      <td>[I, n, t, e, r, n, a, t, i, o, n, a, l, T, e, ...</td>\n",
              "      <td>[28, 41, 16, 21, 21, 15, 12, 21, 21, 41, 15, 1...</td>\n",
              "    </tr>\n",
              "    <tr>\n",
              "      <th>1</th>\n",
              "      <td>[Y, series, –, Supplement, 71, (, 07/2022, ), ...</td>\n",
              "      <td>[22, 21, 22, 22, 11, 4, 11, 5, 21, 38, 11, 35,...</td>\n",
              "    </tr>\n",
              "    <tr>\n",
              "      <th>2</th>\n",
              "      <td>[The, use, cases, are, divided, into, two, cat...</td>\n",
              "      <td>[12, 21, 24, 41, 40, 15, 11, 24, 6, 10, 16, 24...</td>\n",
              "    </tr>\n",
              "    <tr>\n",
              "      <th>3</th>\n",
              "      <td>[Various, use, cases, are, derived, according,...</td>\n",
              "      <td>[16, 21, 24, 41, 40, 39, 35, 12, 21, 24, 15, 1...</td>\n",
              "    </tr>\n",
              "    <tr>\n",
              "      <th>4</th>\n",
              "      <td>[History, Edition, Recommendation, Approval, S...</td>\n",
              "      <td>[22, 22, 22, 22, 22, 22, 22, 22, 38, 11, 16, 2...</td>\n",
              "    </tr>\n",
              "    <tr>\n",
              "      <th>5</th>\n",
              "      <td>[71, 2022, -07-15, 13, 11.1002/1000/15041, Key...</td>\n",
              "      <td>[11, 11, 21, 11, 11, 24, 22, 6, 16, 21, 6, 16,...</td>\n",
              "    </tr>\n",
              "    <tr>\n",
              "      <th>6</th>\n",
              "      <td>[*, To, access, the, Recommendation, ,, type, ...</td>\n",
              "      <td>[21, 35, 21, 12, 22, 6, 38, 12, 22, 21, 8, 21,...</td>\n",
              "    </tr>\n",
              "    <tr>\n",
              "      <th>7</th>\n",
              "      <td>[For, example, ,, http, :, //handle.itu.int/11...</td>\n",
              "      <td>[15, 21, 6, 21, 8, 16, 11, 7]</td>\n",
              "    </tr>\n",
              "    <tr>\n",
              "      <th>8</th>\n",
              "      <td>[ii, Y, series, –, Supplement, 71, (, 07/2022,...</td>\n",
              "      <td>[21, 22, 21, 22, 22, 11, 4, 11, 5, 38, 12, 22,...</td>\n",
              "    </tr>\n",
              "    <tr>\n",
              "      <th>9</th>\n",
              "      <td>[The, ITU, Telecommunication, Standardization,...</td>\n",
              "      <td>[12, 22, 22, 22, 22, 4, 22, 22, 5, 42, 12, 16,...</td>\n",
              "    </tr>\n",
              "  </tbody>\n",
              "</table>\n",
              "</div>\n",
              "    <div class=\"colab-df-buttons\">\n",
              "\n",
              "  <div class=\"colab-df-container\">\n",
              "    <button class=\"colab-df-convert\" onclick=\"convertToInteractive('df-d281cd99-a7e7-4642-a1eb-ae4704f19555')\"\n",
              "            title=\"Convert this dataframe to an interactive table.\"\n",
              "            style=\"display:none;\">\n",
              "\n",
              "  <svg xmlns=\"http://www.w3.org/2000/svg\" height=\"24px\" viewBox=\"0 -960 960 960\">\n",
              "    <path d=\"M120-120v-720h720v720H120Zm60-500h600v-160H180v160Zm220 220h160v-160H400v160Zm0 220h160v-160H400v160ZM180-400h160v-160H180v160Zm440 0h160v-160H620v160ZM180-180h160v-160H180v160Zm440 0h160v-160H620v160Z\"/>\n",
              "  </svg>\n",
              "    </button>\n",
              "\n",
              "  <style>\n",
              "    .colab-df-container {\n",
              "      display:flex;\n",
              "      gap: 12px;\n",
              "    }\n",
              "\n",
              "    .colab-df-convert {\n",
              "      background-color: #E8F0FE;\n",
              "      border: none;\n",
              "      border-radius: 50%;\n",
              "      cursor: pointer;\n",
              "      display: none;\n",
              "      fill: #1967D2;\n",
              "      height: 32px;\n",
              "      padding: 0 0 0 0;\n",
              "      width: 32px;\n",
              "    }\n",
              "\n",
              "    .colab-df-convert:hover {\n",
              "      background-color: #E2EBFA;\n",
              "      box-shadow: 0px 1px 2px rgba(60, 64, 67, 0.3), 0px 1px 3px 1px rgba(60, 64, 67, 0.15);\n",
              "      fill: #174EA6;\n",
              "    }\n",
              "\n",
              "    .colab-df-buttons div {\n",
              "      margin-bottom: 4px;\n",
              "    }\n",
              "\n",
              "    [theme=dark] .colab-df-convert {\n",
              "      background-color: #3B4455;\n",
              "      fill: #D2E3FC;\n",
              "    }\n",
              "\n",
              "    [theme=dark] .colab-df-convert:hover {\n",
              "      background-color: #434B5C;\n",
              "      box-shadow: 0px 1px 3px 1px rgba(0, 0, 0, 0.15);\n",
              "      filter: drop-shadow(0px 1px 2px rgba(0, 0, 0, 0.3));\n",
              "      fill: #FFFFFF;\n",
              "    }\n",
              "  </style>\n",
              "\n",
              "    <script>\n",
              "      const buttonEl =\n",
              "        document.querySelector('#df-d281cd99-a7e7-4642-a1eb-ae4704f19555 button.colab-df-convert');\n",
              "      buttonEl.style.display =\n",
              "        google.colab.kernel.accessAllowed ? 'block' : 'none';\n",
              "\n",
              "      async function convertToInteractive(key) {\n",
              "        const element = document.querySelector('#df-d281cd99-a7e7-4642-a1eb-ae4704f19555');\n",
              "        const dataTable =\n",
              "          await google.colab.kernel.invokeFunction('convertToInteractive',\n",
              "                                                    [key], {});\n",
              "        if (!dataTable) return;\n",
              "\n",
              "        const docLinkHtml = 'Like what you see? Visit the ' +\n",
              "          '<a target=\"_blank\" href=https://colab.research.google.com/notebooks/data_table.ipynb>data table notebook</a>'\n",
              "          + ' to learn more about interactive tables.';\n",
              "        element.innerHTML = '';\n",
              "        dataTable['output_type'] = 'display_data';\n",
              "        await google.colab.output.renderOutput(dataTable, element);\n",
              "        const docLink = document.createElement('div');\n",
              "        docLink.innerHTML = docLinkHtml;\n",
              "        element.appendChild(docLink);\n",
              "      }\n",
              "    </script>\n",
              "  </div>\n",
              "\n",
              "\n",
              "<div id=\"df-08d14276-be2f-4355-91aa-e46b71edaee1\">\n",
              "  <button class=\"colab-df-quickchart\" onclick=\"quickchart('df-08d14276-be2f-4355-91aa-e46b71edaee1')\"\n",
              "            title=\"Suggest charts.\"\n",
              "            style=\"display:none;\">\n",
              "\n",
              "<svg xmlns=\"http://www.w3.org/2000/svg\" height=\"24px\"viewBox=\"0 0 24 24\"\n",
              "     width=\"24px\">\n",
              "    <g>\n",
              "        <path d=\"M19 3H5c-1.1 0-2 .9-2 2v14c0 1.1.9 2 2 2h14c1.1 0 2-.9 2-2V5c0-1.1-.9-2-2-2zM9 17H7v-7h2v7zm4 0h-2V7h2v10zm4 0h-2v-4h2v4z\"/>\n",
              "    </g>\n",
              "</svg>\n",
              "  </button>\n",
              "\n",
              "<style>\n",
              "  .colab-df-quickchart {\n",
              "      --bg-color: #E8F0FE;\n",
              "      --fill-color: #1967D2;\n",
              "      --hover-bg-color: #E2EBFA;\n",
              "      --hover-fill-color: #174EA6;\n",
              "      --disabled-fill-color: #AAA;\n",
              "      --disabled-bg-color: #DDD;\n",
              "  }\n",
              "\n",
              "  [theme=dark] .colab-df-quickchart {\n",
              "      --bg-color: #3B4455;\n",
              "      --fill-color: #D2E3FC;\n",
              "      --hover-bg-color: #434B5C;\n",
              "      --hover-fill-color: #FFFFFF;\n",
              "      --disabled-bg-color: #3B4455;\n",
              "      --disabled-fill-color: #666;\n",
              "  }\n",
              "\n",
              "  .colab-df-quickchart {\n",
              "    background-color: var(--bg-color);\n",
              "    border: none;\n",
              "    border-radius: 50%;\n",
              "    cursor: pointer;\n",
              "    display: none;\n",
              "    fill: var(--fill-color);\n",
              "    height: 32px;\n",
              "    padding: 0;\n",
              "    width: 32px;\n",
              "  }\n",
              "\n",
              "  .colab-df-quickchart:hover {\n",
              "    background-color: var(--hover-bg-color);\n",
              "    box-shadow: 0 1px 2px rgba(60, 64, 67, 0.3), 0 1px 3px 1px rgba(60, 64, 67, 0.15);\n",
              "    fill: var(--button-hover-fill-color);\n",
              "  }\n",
              "\n",
              "  .colab-df-quickchart-complete:disabled,\n",
              "  .colab-df-quickchart-complete:disabled:hover {\n",
              "    background-color: var(--disabled-bg-color);\n",
              "    fill: var(--disabled-fill-color);\n",
              "    box-shadow: none;\n",
              "  }\n",
              "\n",
              "  .colab-df-spinner {\n",
              "    border: 2px solid var(--fill-color);\n",
              "    border-color: transparent;\n",
              "    border-bottom-color: var(--fill-color);\n",
              "    animation:\n",
              "      spin 1s steps(1) infinite;\n",
              "  }\n",
              "\n",
              "  @keyframes spin {\n",
              "    0% {\n",
              "      border-color: transparent;\n",
              "      border-bottom-color: var(--fill-color);\n",
              "      border-left-color: var(--fill-color);\n",
              "    }\n",
              "    20% {\n",
              "      border-color: transparent;\n",
              "      border-left-color: var(--fill-color);\n",
              "      border-top-color: var(--fill-color);\n",
              "    }\n",
              "    30% {\n",
              "      border-color: transparent;\n",
              "      border-left-color: var(--fill-color);\n",
              "      border-top-color: var(--fill-color);\n",
              "      border-right-color: var(--fill-color);\n",
              "    }\n",
              "    40% {\n",
              "      border-color: transparent;\n",
              "      border-right-color: var(--fill-color);\n",
              "      border-top-color: var(--fill-color);\n",
              "    }\n",
              "    60% {\n",
              "      border-color: transparent;\n",
              "      border-right-color: var(--fill-color);\n",
              "    }\n",
              "    80% {\n",
              "      border-color: transparent;\n",
              "      border-right-color: var(--fill-color);\n",
              "      border-bottom-color: var(--fill-color);\n",
              "    }\n",
              "    90% {\n",
              "      border-color: transparent;\n",
              "      border-bottom-color: var(--fill-color);\n",
              "    }\n",
              "  }\n",
              "</style>\n",
              "\n",
              "  <script>\n",
              "    async function quickchart(key) {\n",
              "      const quickchartButtonEl =\n",
              "        document.querySelector('#' + key + ' button');\n",
              "      quickchartButtonEl.disabled = true;  // To prevent multiple clicks.\n",
              "      quickchartButtonEl.classList.add('colab-df-spinner');\n",
              "      try {\n",
              "        const charts = await google.colab.kernel.invokeFunction(\n",
              "            'suggestCharts', [key], {});\n",
              "      } catch (error) {\n",
              "        console.error('Error during call to suggestCharts:', error);\n",
              "      }\n",
              "      quickchartButtonEl.classList.remove('colab-df-spinner');\n",
              "      quickchartButtonEl.classList.add('colab-df-quickchart-complete');\n",
              "    }\n",
              "    (() => {\n",
              "      let quickchartButtonEl =\n",
              "        document.querySelector('#df-08d14276-be2f-4355-91aa-e46b71edaee1 button');\n",
              "      quickchartButtonEl.style.display =\n",
              "        google.colab.kernel.accessAllowed ? 'block' : 'none';\n",
              "    })();\n",
              "  </script>\n",
              "</div>\n",
              "    </div>\n",
              "  </div>\n"
            ]
          },
          "metadata": {},
          "execution_count": 65
        }
      ]
    },
    {
      "cell_type": "code",
      "source": [
        "df.info()"
      ],
      "metadata": {
        "id": "6V21yIITAT_N",
        "colab": {
          "base_uri": "https://localhost:8080/"
        },
        "outputId": "a3b47666-6a32-4ebc-e905-a6ccc1a47921"
      },
      "execution_count": null,
      "outputs": [
        {
          "output_type": "stream",
          "name": "stdout",
          "text": [
            "<class 'pandas.core.frame.DataFrame'>\n",
            "RangeIndex: 1443 entries, 0 to 1442\n",
            "Data columns (total 2 columns):\n",
            " #   Column  Non-Null Count  Dtype \n",
            "---  ------  --------------  ----- \n",
            " 0   tokens  1443 non-null   object\n",
            " 1   pos     1443 non-null   object\n",
            "dtypes: object(2)\n",
            "memory usage: 22.7+ KB\n"
          ]
        }
      ]
    },
    {
      "cell_type": "code",
      "source": [
        "df.to_csv('dataset.csv', index=False)"
      ],
      "metadata": {
        "id": "tdTirWF4Atio"
      },
      "execution_count": null,
      "outputs": []
    },
    {
      "cell_type": "code",
      "source": [],
      "metadata": {
        "id": "XJyT2ofMBnx1"
      },
      "execution_count": null,
      "outputs": []
    }
  ]
}